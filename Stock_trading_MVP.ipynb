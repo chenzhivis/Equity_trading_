{
 "cells": [
  {
   "cell_type": "markdown",
   "metadata": {},
   "source": [
    "# Trading Notebook\n",
    "J Daniel Kim"
   ]
  },
  {
   "cell_type": "markdown",
   "metadata": {},
   "source": [
    "Overall goal: Recently, there has been a rise of retail traders in the market. The purpose of this project is to create a easy to use equity trading service that helps take emotional decisions out of the factor. Also, I want to discover if my model could profit in the  2020.\n"
   ]
  },
  {
   "cell_type": "markdown",
   "metadata": {},
   "source": [
    "MVP Goal:Fit baseline models such as ARIMA and VARIMAX.  Move onto fitting simple neural networks and LSTM's"
   ]
  },
  {
   "cell_type": "markdown",
   "metadata": {},
   "source": [
    "Evaluation metrics: Accuracy,RMSE, MSE, MAE"
   ]
  },
  {
   "cell_type": "code",
   "execution_count": 1,
   "metadata": {},
   "outputs": [
    {
     "name": "stderr",
     "output_type": "stream",
     "text": [
      "/Users/jdanielkim123/opt/anaconda3/envs/learn-env/lib/python3.6/site-packages/tensorflow/python/framework/dtypes.py:523: FutureWarning: Passing (type, 1) or '1type' as a synonym of type is deprecated; in a future version of numpy, it will be understood as (type, (1,)) / '(1,)type'.\n",
      "  _np_qint8 = np.dtype([(\"qint8\", np.int8, 1)])\n",
      "/Users/jdanielkim123/opt/anaconda3/envs/learn-env/lib/python3.6/site-packages/tensorflow/python/framework/dtypes.py:524: FutureWarning: Passing (type, 1) or '1type' as a synonym of type is deprecated; in a future version of numpy, it will be understood as (type, (1,)) / '(1,)type'.\n",
      "  _np_quint8 = np.dtype([(\"quint8\", np.uint8, 1)])\n",
      "/Users/jdanielkim123/opt/anaconda3/envs/learn-env/lib/python3.6/site-packages/tensorflow/python/framework/dtypes.py:525: FutureWarning: Passing (type, 1) or '1type' as a synonym of type is deprecated; in a future version of numpy, it will be understood as (type, (1,)) / '(1,)type'.\n",
      "  _np_qint16 = np.dtype([(\"qint16\", np.int16, 1)])\n",
      "/Users/jdanielkim123/opt/anaconda3/envs/learn-env/lib/python3.6/site-packages/tensorflow/python/framework/dtypes.py:526: FutureWarning: Passing (type, 1) or '1type' as a synonym of type is deprecated; in a future version of numpy, it will be understood as (type, (1,)) / '(1,)type'.\n",
      "  _np_quint16 = np.dtype([(\"quint16\", np.uint16, 1)])\n",
      "/Users/jdanielkim123/opt/anaconda3/envs/learn-env/lib/python3.6/site-packages/tensorflow/python/framework/dtypes.py:527: FutureWarning: Passing (type, 1) or '1type' as a synonym of type is deprecated; in a future version of numpy, it will be understood as (type, (1,)) / '(1,)type'.\n",
      "  _np_qint32 = np.dtype([(\"qint32\", np.int32, 1)])\n",
      "/Users/jdanielkim123/opt/anaconda3/envs/learn-env/lib/python3.6/site-packages/tensorflow/python/framework/dtypes.py:532: FutureWarning: Passing (type, 1) or '1type' as a synonym of type is deprecated; in a future version of numpy, it will be understood as (type, (1,)) / '(1,)type'.\n",
      "  np_resource = np.dtype([(\"resource\", np.ubyte, 1)])\n",
      "/Users/jdanielkim123/opt/anaconda3/envs/learn-env/lib/python3.6/site-packages/tensorboard/compat/tensorflow_stub/dtypes.py:541: FutureWarning: Passing (type, 1) or '1type' as a synonym of type is deprecated; in a future version of numpy, it will be understood as (type, (1,)) / '(1,)type'.\n",
      "  _np_qint8 = np.dtype([(\"qint8\", np.int8, 1)])\n",
      "/Users/jdanielkim123/opt/anaconda3/envs/learn-env/lib/python3.6/site-packages/tensorboard/compat/tensorflow_stub/dtypes.py:542: FutureWarning: Passing (type, 1) or '1type' as a synonym of type is deprecated; in a future version of numpy, it will be understood as (type, (1,)) / '(1,)type'.\n",
      "  _np_quint8 = np.dtype([(\"quint8\", np.uint8, 1)])\n",
      "/Users/jdanielkim123/opt/anaconda3/envs/learn-env/lib/python3.6/site-packages/tensorboard/compat/tensorflow_stub/dtypes.py:543: FutureWarning: Passing (type, 1) or '1type' as a synonym of type is deprecated; in a future version of numpy, it will be understood as (type, (1,)) / '(1,)type'.\n",
      "  _np_qint16 = np.dtype([(\"qint16\", np.int16, 1)])\n",
      "/Users/jdanielkim123/opt/anaconda3/envs/learn-env/lib/python3.6/site-packages/tensorboard/compat/tensorflow_stub/dtypes.py:544: FutureWarning: Passing (type, 1) or '1type' as a synonym of type is deprecated; in a future version of numpy, it will be understood as (type, (1,)) / '(1,)type'.\n",
      "  _np_quint16 = np.dtype([(\"quint16\", np.uint16, 1)])\n",
      "/Users/jdanielkim123/opt/anaconda3/envs/learn-env/lib/python3.6/site-packages/tensorboard/compat/tensorflow_stub/dtypes.py:545: FutureWarning: Passing (type, 1) or '1type' as a synonym of type is deprecated; in a future version of numpy, it will be understood as (type, (1,)) / '(1,)type'.\n",
      "  _np_qint32 = np.dtype([(\"qint32\", np.int32, 1)])\n",
      "/Users/jdanielkim123/opt/anaconda3/envs/learn-env/lib/python3.6/site-packages/tensorboard/compat/tensorflow_stub/dtypes.py:550: FutureWarning: Passing (type, 1) or '1type' as a synonym of type is deprecated; in a future version of numpy, it will be understood as (type, (1,)) / '(1,)type'.\n",
      "  np_resource = np.dtype([(\"resource\", np.ubyte, 1)])\n"
     ]
    }
   ],
   "source": [
    "#importing packages\n",
    "import pandas as pd\n",
    "import sklearn\n",
    "from sklearn import preprocessing\n",
    "from sklearn.preprocessing import MinMaxScaler\n",
    "import requests\n",
    "import pmdarima as pm\n",
    "from statsmodels.tsa.api import VAR\n",
    "import seaborn as sns\n",
    "%matplotlib inline\n",
    "import matplotlib.pyplot as plt\n",
    "import tensorflow as tf\n",
    "import numpy as np"
   ]
  },
  {
   "cell_type": "code",
   "execution_count": 2,
   "metadata": {},
   "outputs": [],
   "source": [
    "#Transforming income dataset\n",
    "def Income_statement(df):\n",
    "    df = df.T\n",
    "    header = df.iloc[0]\n",
    "    df.columns=header\n",
    "    df.reset_index(inplace=True)\n",
    "    df = df[2:]\n",
    "    df['index'] = pd.to_datetime(df['index'],format = '%m/%d/%Y')\n",
    "    df.set_index('index',inplace=True)\n",
    "    columns=['EBIT', 'TotalRevenue','\\tNetIncome']\n",
    "    for i in columns:\n",
    "        df[i] = df[i].str.replace(',', '')\n",
    "    df = df[['EBIT', 'TotalRevenue','\\tNetIncome']].astype(float)\n",
    "    df.rename(columns={'\\tNetIncome':'NetIncome'},inplace=True)\n",
    "    return df.resample('D').ffill()['2005-01-01':]\n",
    "    "
   ]
  },
  {
   "cell_type": "code",
   "execution_count": 3,
   "metadata": {},
   "outputs": [],
   "source": [
    "#Transforming cashflow dataset\n",
    "def cashflow_organize(df):\n",
    "    df = df.T\n",
    "    header = df.iloc[0]\n",
    "    df.columns=header\n",
    "    df.reset_index(inplace=True)\n",
    "    df = df[2:]\n",
    "    df['index'] = pd.to_datetime(df['index'],format = '%m/%d/%Y')\n",
    "    df.set_index('index',inplace=True)\n",
    "    columns=['FreeCashFlow','FinancingCashFlow','InvestingCashFlow','OperatingCashFlow']\n",
    "    for i in columns:\n",
    "        df[i] = df[i].str.replace(',', '')\n",
    "    df = df[['FreeCashFlow','FinancingCashFlow','InvestingCashFlow','OperatingCashFlow']].astype(float)\n",
    "    return df.resample('D').ffill()['2005-01-01':]"
   ]
  },
  {
   "cell_type": "code",
   "execution_count": 4,
   "metadata": {},
   "outputs": [],
   "source": [
    "#Transforming financials\n",
    "def cleaning_valuation(df):\n",
    "    df = df.T\n",
    "    header = df.iloc[0]\n",
    "    df.columns=header\n",
    "    df.reset_index(inplace=True)\n",
    "    df = df[2:]\n",
    "    df['index'] = pd.to_datetime(df['index'],format = '%m/%d/%Y')\n",
    "    df.set_index('index',inplace=True)\n",
    "    columns = ['MarketCap', 'PeRatio']\n",
    "    changing = ['MarketCap',  'PeRatio']\n",
    "    df.drop(columns=['EnterpriseValue','EnterprisesValueRevenueRatio','EnterprisesValueEBITDARatio','PsRatio', 'PbRatio', 'ForwardPeRatio', 'PegRatio'],inplace=True)\n",
    "    for i in columns:\n",
    "        df[i] = df[i].str.replace(',', '')\n",
    "    for j in changing:\n",
    "        df[j] = df[j].map(lambda x: float(x))\n",
    "    return df.resample('D').ffill()['2005-01-01':]\n",
    "    \n",
    "        "
   ]
  },
  {
   "cell_type": "code",
   "execution_count": 5,
   "metadata": {},
   "outputs": [],
   "source": [
    "#Transforming financials\n",
    "def cleaning_valuation2(df):\n",
    "    df = df.T\n",
    "    header = df.iloc[0]\n",
    "    df.columns=header\n",
    "    df.reset_index(inplace=True)\n",
    "    df = df[2:]\n",
    "    df['index'] = pd.to_datetime(df['index'],format = '%m/%d/%Y')\n",
    "    df.set_index('index',inplace=True)\n",
    "    columns = ['MarketCap','PeRatio']\n",
    "    changing = ['MarketCap', 'PeRatio']\n",
    "    df.drop(columns=['EnterpriseValue', 'EnterprisesValueRevenueRatio','PsRatio', 'PbRatio', 'ForwardPeRatio', 'PegRatio'],inplace=True)\n",
    "    for i in columns:\n",
    "        df[i] = df[i].str.replace(',', '')\n",
    "    for j in changing:\n",
    "        df[j] = df[j].map(lambda x: float(x))\n",
    "    return df.resample('D').ffill()['2005-01-01':]\n",
    "    \n",
    "        "
   ]
  },
  {
   "cell_type": "code",
   "execution_count": 6,
   "metadata": {},
   "outputs": [],
   "source": [
    "#Transforming financials\n",
    "def cleaning_valuation3(df):\n",
    "    df = df.T\n",
    "    header = df.iloc[0]\n",
    "    df.columns=header\n",
    "    df.reset_index(inplace=True)\n",
    "    df = df[2:]\n",
    "    df['index'] = pd.to_datetime(df['index'],format = '%m/%d/%Y')\n",
    "    df.set_index('index',inplace=True)\n",
    "    columns = ['MarketCap','PeRatio']\n",
    "    changing = ['MarketCap', 'PeRatio']\n",
    "    df.drop(columns=['PsRatio', 'PbRatio', 'ForwardPeRatio', 'PegRatio'],inplace=True)\n",
    "    for i in columns:\n",
    "        df[i] = df[i].str.replace(',', '')\n",
    "    for j in changing:\n",
    "        df[j] = df[j].map(lambda x: float(x))\n",
    "    return df.resample('D').ffill()['2005-01-01':]\n",
    "    \n",
    "        "
   ]
  },
  {
   "cell_type": "code",
   "execution_count": 7,
   "metadata": {},
   "outputs": [],
   "source": [
    "#Helping rename columns\n",
    "def column_names(x):\n",
    "    x.rename(columns={0:'Open', 1:'High', 2:'Low', 3:'Close', 4:'Volume', 5:'Dividends', 6:'MarketCap',\n",
    "       7:'PeRatio', 8:'EBIT', 9:'TotalRevenue', 10:'NetIncome', 11:'FreeCashFlow',\n",
    "       12:'FinancingCashFlow', 13:'InvestingCashFlow', 14:'OperatingCashFlow', 15:'mean'},inplace=True)\n",
    "    return x"
   ]
  },
  {
   "cell_type": "code",
   "execution_count": 8,
   "metadata": {},
   "outputs": [],
   "source": [
    "#Importing and scaling vix data\n",
    "vix = pd.read_csv('vixcurrent.csv',header=1)\n",
    "vix['mean'] = (vix['VIX High'] + vix['VIX Low'])/2\n",
    "vix['Date'] = pd.to_datetime(vix['Date'], format=\"%m/%d/%Y\")\n",
    "vix.set_index('Date',inplace=True)\n",
    "vix['mean']=vix['mean'].map(lambda x:-x)\n",
    "vix = vix.ffill()\n",
    "vix_mean = pd.DataFrame(vix['mean'])['2005-01-01':]"
   ]
  },
  {
   "cell_type": "code",
   "execution_count": 387,
   "metadata": {},
   "outputs": [],
   "source": [
    "#Microsoft\n",
    "MSFT_valuation = cleaning_valuation(pd.read_csv('MSFT/MSFT_monthly_valuation_measures.csv'))\n",
    "MSFT_income_statement = Income_statement(pd.read_csv('MSFT/MSFT_quarterly_financials.csv'))\n",
    "MSFT_cashflow = cashflow_organize(pd.read_csv('MSFT/MSFT_quarterly_cash-flow.csv'))\n",
    "#APPLE\n",
    "AAPL_valuation = cleaning_valuation(pd.read_csv('AAPL/AAPL_monthly_valuation_measures.csv'))\n",
    "AAPL_cashflow = cashflow_organize(pd.read_csv('AAPL/AAPL_quarterly_cash-flow.csv'))\n",
    "AAPL_income_statement = Income_statement(pd.read_csv('MSFT/MSFT_quarterly_financials.csv'))\n",
    "\n",
    "#Amazon does not have dividends\n",
    "AMZN_valuation = cleaning_valuation(pd.read_csv('AMZN/AMZN_monthly_valuation_measures.csv'))\n",
    "AMZN_cashflow = cashflow_organize(pd.read_csv('AMZN/AMZN_quarterly_cash-flow.csv'))\n",
    "AMZN_income_statement = Income_statement(pd.read_csv('AMZN/AMZN_quarterly_financials.csv'))\n",
    "\n",
    "#JNJ\n",
    "JNJ_valuation = cleaning_valuation(pd.read_csv('JNJ/JNJ_monthly_valuation_measures.csv'))\n",
    "JNJ_cashflow = cashflow_organize(pd.read_csv('JNJ/JNJ_quarterly_cash-flow.csv'))\n",
    "JNJ_income_statement = Income_statement(pd.read_csv('JNJ/JNJ_quarterly_financials.csv'))\n",
    "\n",
    "#Visacard\n",
    "# V_valuation = cleaning_valuation(pd.read_csv('V/V_monthly_valuation_measures.csv'))\n",
    "# V_cashflow = cashflow_organize(pd.read_csv('V/V_quarterly_cash-flow.csv'))\n",
    "# V_income_statement = Income_statement(pd.read_csv('V/V_quarterly_financials.csv'))\n",
    "\n",
    "#Facebook does not have dividends\n",
    "# FB_valuation = cleaning_valuation(pd.read_csv('FB/FB_monthly_valuation_measures.csv'))\n",
    "# FB_cashflow = cashflow_organize(pd.read_csv('FB/FB_quarterly_cash-flow.csv'))\n",
    "# FB_income_statement = Income_statement(pd.read_csv('FB/FB_quarterly_financials.csv'))\n",
    "\n",
    "#Berkshire Hathway does not have dividends \n",
    "BRK_B_valuation = cleaning_valuation2(pd.read_csv('BRK-B/BRK-B_monthly_valuation_measures.csv'))\n",
    "BRK_B_cashflow = cashflow_organize(pd.read_csv('BRK-B/BRK-B_quarterly_cash-flow.csv'))\n",
    "BRK_B_income_statement = Income_statement(pd.read_csv('BRK-B/BRK-B_quarterly_financials.csv'))\n",
    "\n",
    "#Berkshire Hathway does not have dividends\n",
    "GOOGL_valuation = cleaning_valuation(pd.read_csv('GOOGL/GOOGL_monthly_valuation_measures.csv'))\n",
    "GOOGL_cashflow = cashflow_organize(pd.read_csv('GOOGL/GOOGL_quarterly_cash-flow.csv'))\n",
    "GOOGL_income_statement = Income_statement(pd.read_csv('GOOGL/GOOGL_quarterly_financials.csv'))\n",
    "\n",
    "#JP Morgan\n",
    "JPM_valuation = cleaning_valuation3(pd.read_csv('JPM/JPM_monthly_valuation_measures.csv'))\n",
    "JPM_cashflow = cashflow_organize(pd.read_csv('JPM/JP_quarterly_cash-flow.csv'))\n",
    "JPM_income_statement = Income_statement(pd.read_csv('JPM/JP_quarterly_financials.csv'))\n",
    "\n",
    "#Proctor and gamble \n",
    "PG_valuation = cleaning_valuation(pd.read_csv('PG/PG_monthly_valuation_measures.csv'))\n",
    "PG_cashflow = cashflow_organize(pd.read_csv('PG/PG_quarterly_cash-flow.csv'))\n",
    "PG_income_statement = Income_statement(pd.read_csv('PG/PG_quarterly_financials.csv'))\n"
   ]
  },
  {
   "cell_type": "code",
   "execution_count": 388,
   "metadata": {},
   "outputs": [],
   "source": [
    "#Transforming stock data\n",
    "def yfinance_import(x):\n",
    "    stock = yf.Ticker(x)\n",
    "    hist = stock.history(period='max')\n",
    "    hist.reset_index(inplace=True)\n",
    "    hist['Date'] = pd.to_datetime(hist['Date'])\n",
    "    hist.set_index('Date',inplace=True)\n",
    "    return hist"
   ]
  },
  {
   "cell_type": "code",
   "execution_count": 389,
   "metadata": {},
   "outputs": [],
   "source": [
    "#importing financial info\n",
    "import yfinance as yf\n",
    "AAPL = yfinance_import('AAPL').resample('D').ffill()['2005-01-01':] #1\n",
    "MSFT = yfinance_import('MSFT').resample('D').ffill()['2005-01-01':]#2\n",
    "AMZN = yfinance_import('AMZN').resample('D').ffill()['2005-01-01':]#3\n",
    "JNJ = yfinance_import('JNJ').resample('D').ffill()['2005-01-01':]#4\n",
    "# V = yfinance_import('V').resample('D').ffill()['2008-03-19':]#5\n",
    "# FB = yfinance_import('FB')['2005-01-01':].resample('D').ffill()['2012-05-18':]#6\n",
    "GOOGL = yfinance_import('GOOGL').resample('D').ffill()['2005-01-01':]#7\n",
    "JPM = yfinance_import('JPM').resample('D').ffill()['2005-01-01':]#8\n",
    "PG = yfinance_import('PG').resample('D').ffill()['2005-01-01':]#9\n",
    "BRK_B = yfinance_import('BRK-B').resample('D').ffill()['2005-01-01':]#10\n",
    "VEEV = yfinance_import('VEEV').resample('D').ffill()['2005-01-01':]#2\n",
    "\n",
    "#Top 5 volitile stocks\n",
    "UBX = yfinance_import('UBX').resample('D').ffill()['2018-05-03':]\n",
    "LODE = yfinance_import('LODE').resample('D').ffill()['2010-07-21':]\n",
    "CLUB= yfinance_import('CLUB').resample('D').ffill()['2006-06-02':]\n",
    "IDXG= yfinance_import('IDXG').resample('D').ffill()['2005-01-01':]\n",
    "KGJI = yfinance_import('KGJI').resample('D').ffill()['2005-01-01':]\n"
   ]
  },
  {
   "cell_type": "code",
   "execution_count": 390,
   "metadata": {},
   "outputs": [],
   "source": [
    "#dropping stock splits\n",
    "AAPL.drop('Stock Splits',axis=1, inplace=True)\n",
    "MSFT.drop('Stock Splits',axis=1, inplace=True)\n",
    "AMZN.drop('Stock Splits',axis=1, inplace=True)\n",
    "JNJ.drop('Stock Splits',axis=1, inplace=True)\n",
    "# V.drop('Stock Splits',axis=1, inplace=True)\n",
    "# FB.drop('Stock Splits',axis=1, inplace=True)\n",
    "GOOGL.drop('Stock Splits',axis=1, inplace=True)\n",
    "JPM.drop('Stock Splits',axis=1, inplace=True)\n",
    "PG.drop('Stock Splits',axis=1, inplace=True)\n",
    "BRK_B.drop('Stock Splits',axis=1, inplace=True)\n"
   ]
  },
  {
   "cell_type": "code",
   "execution_count": 391,
   "metadata": {},
   "outputs": [],
   "source": [
    "#Concating all info\n",
    "AAPL_concat = pd.concat([AAPL,AAPL_valuation,AAPL_income_statement,AAPL_cashflow,vix_mean],axis=1)\n",
    "MSFT_concat = pd.concat([MSFT,MSFT_valuation,MSFT_income_statement,MSFT_cashflow,vix_mean],axis=1)\n",
    "AMZN_concat = pd.concat([AMZN,AMZN_valuation,AMZN_income_statement,AMZN_cashflow,vix_mean],axis=1)\n",
    "JNJ_concat = pd.concat([JNJ,JNJ_valuation,JNJ_income_statement,JNJ_cashflow,vix_mean],axis=1)\n",
    "# V_concat = pd.concat([V,V_valuation,V_income_statement,V_cashflow,vix_mean],axis=1)['2008-03-19':]\n",
    "# FB_concat = pd.concat([FB,FB_valuation,FB_income_statement,FB_cashflow,vix_mean],axis=1)['2012-05-18':]\n",
    "GOOGL_concat = pd.concat([GOOGL,GOOGL_valuation,GOOGL_income_statement,GOOGL_cashflow,vix_mean],axis=1)\n",
    "JPM_concat = pd.concat([JPM,JPM_valuation,JPM_income_statement,JPM_cashflow,vix_mean],axis=1)\n",
    "PG_concat = pd.concat([PG,PG_valuation,PG_income_statement,PG_cashflow,vix_mean],axis=1)\n",
    "BRK_B_concat = pd.concat([BRK_B,BRK_B_valuation,BRK_B_income_statement,BRK_B_cashflow,vix_mean],axis=1)\n"
   ]
  },
  {
   "cell_type": "code",
   "execution_count": 392,
   "metadata": {},
   "outputs": [],
   "source": [
    "#Imputing values using InterpolateTime\n",
    "def imputing_values(valuation,columns):\n",
    "    import numpy as np\n",
    "    for z in columns:\n",
    "        valuation = valuation.assign(InterpolateTime=valuation[z].interpolate(method='time'))\n",
    "        valuation[z]=valuation['InterpolateTime']\n",
    "    valuation.drop('InterpolateTime',axis=1,inplace=True)\n",
    "    return valuation.ffill()"
   ]
  },
  {
   "cell_type": "code",
   "execution_count": 393,
   "metadata": {},
   "outputs": [],
   "source": [
    "#Imputing values\n",
    "columns =['MarketCap', 'PeRatio','EBIT', 'TotalRevenue','NetIncome']\n",
    "AAPL_concat = imputing_values(AAPL_concat,columns)['2005-01-01':]\n",
    "MSFT_concat = imputing_values(MSFT_concat,columns)['2005-01-01':]\n",
    "AMZN_concat = imputing_values(AMZN_concat,columns)['2005-01-01':]\n",
    "JNJ_concat = imputing_values(JNJ_concat,columns)['2005-01-01':]\n",
    "# V_concat = imputing_values(V_concat,columns)['2008-03-19':]\n",
    "# FB_concat = imputing_values(FB_concat,columns)['2012-05-18':]\n",
    "GOOGL_concat = imputing_values(GOOGL_concat,columns)['2005-01-01':]\n",
    "JPM_concat = imputing_values(JPM_concat,columns)['2005-01-01':]\n",
    "PG_concat = imputing_values(PG_concat,columns)['2005-01-01':]\n",
    "BRK_B_concat = imputing_values(BRK_B_concat,columns)['2005-01-01':]"
   ]
  },
  {
   "cell_type": "code",
   "execution_count": 16,
   "metadata": {},
   "outputs": [],
   "source": [
    "#scaled data and renaming columns\n",
    "AAPL_scaled = column_names(pd.DataFrame(min_max_scaler.fit_transform(AAPL_concat)))\n",
    "MSFT_scaled = column_names(pd.DataFrame(min_max_scaler.fit_transform(MSFT_concat)))\n",
    "AMZN_scaled = column_names(pd.DataFrame(min_max_scaler.fit_transform(AMZN_concat)))\n",
    "JNJ_scaled = column_names(pd.DataFrame(min_max_scaler.fit_transform(JNJ_concat)))\n",
    "# V_scaled = column_names(pd.DataFrame(min_max_scaler.fit_transform(V_concat)))\n",
    "# FB_scaled = column_names(pd.DataFrame(min_max_scaler.fit_transform(FB_concat)))\n",
    "GOOGL_scaled = column_names(pd.DataFrame(min_max_scaler.fit_transform(GOOGL_concat)))\n",
    "JPM_scaled = column_names(pd.DataFrame(min_max_scaler.fit_transform(JPM_concat)))\n",
    "PG_scaled = column_names(pd.DataFrame(min_max_scaler.fit_transform(PG_concat)))\n",
    "BRK_B_scaled = column_names(pd.DataFrame(min_max_scaler.fit_transform(BRK_B_concat)))\n"
   ]
  },
  {
   "cell_type": "code",
   "execution_count": 17,
   "metadata": {},
   "outputs": [],
   "source": [
    "def percent_change(name):\n",
    "    stock_concat_drop = name.reset_index()\n",
    "    stock_concat_drop = stock_concat_drop.drop('Date',axis=1)\n",
    "    stock_concat_pctchange = stock_concat_drop.pct_change()\n",
    "    stock_concat_pctchange = stock_concat_pctchange[['Open', 'High', 'Low', 'Close', 'Volume', 'MarketCap',\n",
    "       'PeRatio', 'EBIT', 'TotalRevenue', 'NetIncome', 'FreeCashFlow',\n",
    "       'FinancingCashFlow', 'InvestingCashFlow', 'OperatingCashFlow']]\n",
    "    stock_concat_pctchange.fillna(0,inplace=True)\n",
    "    stock_concat_pctchange.reset_index(inplace=True)\n",
    "    stock_concat_pctchange.drop('index',axis=1,inplace=True)\n",
    "    return stock_concat_pctchange"
   ]
  },
  {
   "cell_type": "code",
   "execution_count": 18,
   "metadata": {},
   "outputs": [],
   "source": [
    "# AAPL_concat_pctchange = \n",
    "# MSFT_concat_pctchange\n",
    "# AMZN_concat_pctchange\n",
    "# JNJ_concat_pctchange\n",
    "# V_concat_pctchange\n",
    "# FB_concat_pctchange\n",
    "# GOOGL_concat_pctchange\n",
    "# JPM_concat_pctchange\n",
    "# BRK_B_scaled_concat_pctchange\n"
   ]
  },
  {
   "cell_type": "code",
   "execution_count": 19,
   "metadata": {},
   "outputs": [],
   "source": [
    "AAPL_concat_drop = AAPL_concat.reset_index()\n",
    "AAPL_concat_drop = AAPL_concat_drop.drop('Date',axis=1)#.pct_change()\n",
    "AAPL_concat_pctchange = AAPL_concat_drop.pct_change()\n",
    "AAPL_concat_pctchange = AAPL_concat_pctchange[['Open', 'High', 'Low', 'Close', 'Volume', 'MarketCap',\n",
    "       'PeRatio', 'EBIT', 'TotalRevenue', 'NetIncome', 'FreeCashFlow',\n",
    "       'FinancingCashFlow', 'InvestingCashFlow', 'OperatingCashFlow']]\n",
    "AAPL_concat_pctchange.fillna(0,inplace=True)\n",
    "AAPL_concat_pctchange.reset_index(inplace=True)\n",
    "AAPL_concat_pctchange.drop('index',axis=1,inplace=True)"
   ]
  },
  {
   "cell_type": "markdown",
   "metadata": {},
   "source": [
    "## EDA"
   ]
  },
  {
   "cell_type": "markdown",
   "metadata": {},
   "source": [
    "#### Imputing"
   ]
  },
  {
   "cell_type": "markdown",
   "metadata": {},
   "source": [
    "In the world of finance, the three financial statements release quartely or in their 8-k, which can be random. From this, we can help create our valuation metrics. However, as you can see in the plot below, that the reporting has missing values therefore not being to make the P/E ratio."
   ]
  },
  {
   "cell_type": "code",
   "execution_count": 20,
   "metadata": {},
   "outputs": [
    {
     "data": {
      "image/png": "[encoded data removed]",
      "text/plain": [
       "<Figure size 432x288 with 1 Axes>"
      ]
     },
     "metadata": {
      "needs_background": "light"
     },
     "output_type": "display_data"
    }
   ],
   "source": [
    "AAPL_valuation['PeRatio'].plot()\n",
    "plt.title('AAPL PeRatio Before Imputing')\n",
    "plt.ylabel('PeRatio')\n",
    "plt.savefig('AAPL_PeRatio_Before_Imputing.png');"
   ]
  },
  {
   "cell_type": "markdown",
   "metadata": {},
   "source": [
    "I have created a transformation that imputes the values using the Interpolate time method. This helps connect the dots. Below is an example after the imputing."
   ]
  },
  {
   "cell_type": "code",
   "execution_count": 21,
   "metadata": {
    "scrolled": false
   },
   "outputs": [
    {
     "data": {
      "image/png": "[encoded data removed]",
      "text/plain": [
       "<Figure size 432x288 with 1 Axes>"
      ]
     },
     "metadata": {
      "needs_background": "light"
     },
     "output_type": "display_data"
    }
   ],
   "source": [
    "AAPL_scaled['PeRatio'].plot()\n",
    "plt.title('AAPL PeRatio After Imputing')\n",
    "plt.ylabel('PeRatio')\n",
    "plt.savefig('AAPL_PeRatio_After_Imputing.png');"
   ]
  },
  {
   "cell_type": "markdown",
   "metadata": {},
   "source": [
    "Here is another example of Microsoft. (First before and second after) "
   ]
  },
  {
   "cell_type": "code",
   "execution_count": 22,
   "metadata": {},
   "outputs": [
    {
     "data": {
      "image/png": "[encoded data removed]",
      "text/plain": [
       "<Figure size 432x288 with 1 Axes>"
      ]
     },
     "metadata": {
      "needs_background": "light"
     },
     "output_type": "display_data"
    }
   ],
   "source": [
    "MSFT_valuation['PeRatio'].plot()\n",
    "plt.title('MSFT PeRatio Before Imputing')\n",
    "plt.ylabel('PeRatio')\n",
    "plt.savefig('MSFT_PeRatio_Before_Imputing.png');"
   ]
  },
  {
   "cell_type": "code",
   "execution_count": 23,
   "metadata": {},
   "outputs": [
    {
     "data": {
      "image/png": "[encoded data removed]",
      "text/plain": [
       "<Figure size 432x288 with 1 Axes>"
      ]
     },
     "metadata": {
      "needs_background": "light"
     },
     "output_type": "display_data"
    }
   ],
   "source": [
    "MSFT_scaled['PeRatio'].plot()\n",
    "plt.title('MSFT PeRatio After Imputing')\n",
    "plt.ylabel('PeRatio')\n",
    "plt.savefig('MSFT_PeRatio_After_Imputing.png');"
   ]
  },
  {
   "cell_type": "markdown",
   "metadata": {},
   "source": [
    "#### Heatmap Correlation"
   ]
  },
  {
   "cell_type": "code",
   "execution_count": 24,
   "metadata": {},
   "outputs": [
    {
     "data": {
      "image/png": "[encoded data removed]",
      "text/plain": [
       "<Figure size 720x576 with 2 Axes>"
      ]
     },
     "metadata": {
      "needs_background": "light"
     },
     "output_type": "display_data"
    },
    {
     "data": {
      "text/plain": [
       "<Figure size 432x288 with 0 Axes>"
      ]
     },
     "metadata": {},
     "output_type": "display_data"
    }
   ],
   "source": [
    "data= AAPL_concat\n",
    "fmapping, heatmapping = plt.subplots(figsize=(10, 8))\n",
    "heatmapping= sns.heatmap(data.corr(), square=False)\n",
    "heatmapping.set(title='Correlation of Apple Stock Data and Financials')\n",
    "plt.show()\n",
    "plt.savefig('Correlation_of_Apple_Stock_Data_and_Financials.png');"
   ]
  },
  {
   "cell_type": "markdown",
   "metadata": {},
   "source": [
    "From this we can see that the stock data is highly correlated amongst each other as well as Total Revenue."
   ]
  },
  {
   "cell_type": "markdown",
   "metadata": {},
   "source": [
    "#### Looking at important dates and triggers of the market 2020"
   ]
  },
  {
   "cell_type": "markdown",
   "metadata": {},
   "source": [
    "Dates:\n",
    "- 2020-03-23: S&P hit their lowest point\n",
    "- 2020-03-27: Stimulus package\n",
    "- 2020-05-23: Memorial Day Weekend\n",
    "- 2020-07-04: July 4th\n"
   ]
  },
  {
   "cell_type": "code",
   "execution_count": 25,
   "metadata": {},
   "outputs": [
    {
     "data": {
      "image/png": "[encoded data removed]",
      "text/plain": [
       "<Figure size 432x288 with 1 Axes>"
      ]
     },
     "metadata": {
      "needs_background": "light"
     },
     "output_type": "display_data"
    }
   ],
   "source": [
    "#APPLE\n",
    "AAPL_concat['High']['2020-01-01':].plot()\n",
    "plt.axvline('2020-03-23',color='red')\n",
    "plt.axvline('2020-03-27',color='green')\n",
    "plt.axvline('2020-07-04',color='purple')\n",
    "plt.axvline('2020-05-23',color='orange')\n",
    "plt.title('AAPL Important Dates in 2020')\n",
    "plt.savefig('AAPL_Important_Dates_in_2020.png');"
   ]
  },
  {
   "cell_type": "code",
   "execution_count": 26,
   "metadata": {},
   "outputs": [
    {
     "data": {
      "image/png": "[encoded data removed]",
      "text/plain": [
       "<Figure size 432x288 with 1 Axes>"
      ]
     },
     "metadata": {
      "needs_background": "light"
     },
     "output_type": "display_data"
    }
   ],
   "source": [
    "#Microsoft\n",
    "MSFT_concat['High']['2020-01-01':].plot()\n",
    "plt.axvline('2020-03-23',color='red')\n",
    "plt.axvline('2020-03-27',color='green')\n",
    "plt.axvline('2020-07-04',color='purple')\n",
    "plt.axvline('2020-05-23',color='orange')\n",
    "plt.title('MSFT Important Dates in 2020')\n",
    "plt.savefig('MSFT_Important_Dates_in_2020.png');"
   ]
  },
  {
   "cell_type": "code",
   "execution_count": 27,
   "metadata": {},
   "outputs": [
    {
     "data": {
      "image/png": "[encoded data removed]",
      "text/plain": [
       "<Figure size 432x288 with 1 Axes>"
      ]
     },
     "metadata": {
      "needs_background": "light"
     },
     "output_type": "display_data"
    }
   ],
   "source": [
    "#GOOGLE\n",
    "GOOGL_concat['High']['2020-01-01':].plot()\n",
    "plt.axvline('2020-03-23',color='red')\n",
    "plt.axvline('2020-03-27',color='green')\n",
    "plt.axvline('2020-07-04',color='purple')\n",
    "plt.axvline('2020-05-23',color='orange')\n",
    "plt.title('GOOGL Important Dates in 2020')\n",
    "plt.savefig('GOOGL_Important_Dates_in_2020.png');"
   ]
  },
  {
   "cell_type": "code",
   "execution_count": 28,
   "metadata": {},
   "outputs": [
    {
     "data": {
      "image/png": "[encoded data removed]",
      "text/plain": [
       "<Figure size 432x288 with 1 Axes>"
      ]
     },
     "metadata": {
      "needs_background": "light"
     },
     "output_type": "display_data"
    }
   ],
   "source": [
    "#Amazon \n",
    "AMZN_concat['High']['2020-01-01':].plot()\n",
    "plt.axvline('2020-03-23',color='red')\n",
    "plt.axvline('2020-03-27',color='green')\n",
    "plt.axvline('2020-07-04',color='purple')\n",
    "plt.axvline('2020-05-23',color='orange')\n",
    "plt.title('AMZN Important Dates in 2020')\n",
    "plt.savefig('AMZN_Important_Dates_in_2020.png');"
   ]
  },
  {
   "cell_type": "code",
   "execution_count": 29,
   "metadata": {},
   "outputs": [],
   "source": [
    "# #Facebook \n",
    "# FB_concat['High']['2020-01-01':].plot()\n",
    "# plt.axvline('2020-03-23',color='red')\n",
    "# plt.axvline('2020-03-27',color='green')\n",
    "# plt.axvline('2020-07-04',color='purple')\n",
    "# plt.axvline('2020-05-23',color='orange')\n",
    "# plt.title('FB Important Dates in 2020')\n",
    "# plt.savefig('FB_Important_Dates_in_2020.png');"
   ]
  },
  {
   "cell_type": "code",
   "execution_count": 30,
   "metadata": {},
   "outputs": [
    {
     "data": {
      "image/png": "[encoded data removed]",
      "text/plain": [
       "<Figure size 432x288 with 1 Axes>"
      ]
     },
     "metadata": {
      "needs_background": "light"
     },
     "output_type": "display_data"
    }
   ],
   "source": [
    "#Berkshire Hathaway\n",
    "BRK_B_concat['High']['2020-01-01':].plot()\n",
    "plt.axvline('2020-03-23',color='red')\n",
    "plt.axvline('2020-03-27',color='green')\n",
    "plt.axvline('2020-07-04',color='purple')\n",
    "plt.axvline('2020-05-23',color='orange')\n",
    "plt.title('BRK_B Important Dates in 2020')\n",
    "plt.savefig('BRK_B_Important_Dates_in_2020.png');"
   ]
  },
  {
   "cell_type": "code",
   "execution_count": 31,
   "metadata": {},
   "outputs": [
    {
     "data": {
      "image/png": "[encoded data removed]",
      "text/plain": [
       "<Figure size 432x288 with 1 Axes>"
      ]
     },
     "metadata": {
      "needs_background": "light"
     },
     "output_type": "display_data"
    }
   ],
   "source": [
    "#Johnson and Johnson\n",
    "JNJ_concat['High']['2020-01-01':].plot()\n",
    "plt.axvline('2020-03-23',color='red')\n",
    "plt.axvline('2020-03-27',color='green')\n",
    "plt.axvline('2020-07-04',color='purple')\n",
    "plt.axvline('2020-05-23',color='orange')\n",
    "plt.title('JNJ Important Dates in 2020');"
   ]
  },
  {
   "cell_type": "code",
   "execution_count": 32,
   "metadata": {},
   "outputs": [
    {
     "data": {
      "image/png": "[encoded data removed]",
      "text/plain": [
       "<Figure size 432x288 with 1 Axes>"
      ]
     },
     "metadata": {
      "needs_background": "light"
     },
     "output_type": "display_data"
    }
   ],
   "source": [
    "#JP. Morgan\n",
    "JPM_concat['High']['2020-01-01':].plot()\n",
    "plt.axvline('2020-03-23',color='red')\n",
    "plt.axvline('2020-03-27',color='green')\n",
    "plt.axvline('2020-07-04',color='purple')\n",
    "plt.axvline('2020-05-23',color='orange')\n",
    "plt.title('JPM Important Dates in 2020')\n",
    "plt.savefig('JPM_Important_Dates_in_2020.png');"
   ]
  },
  {
   "cell_type": "code",
   "execution_count": 33,
   "metadata": {},
   "outputs": [],
   "source": [
    "# #Visa\n",
    "# V_concat['High']['2020-01-01':].plot()\n",
    "# plt.axvline('2020-03-23',color='red')\n",
    "# plt.axvline('2020-03-27',color='green')\n",
    "# plt.axvline('2020-07-04',color='purple')\n",
    "# plt.axvline('2020-05-23',color='orange')\n",
    "# plt.title('V Important Dates in 2020')\n",
    "# plt.savefig('V_Important_Dates_in_2020.png');"
   ]
  },
  {
   "cell_type": "code",
   "execution_count": 34,
   "metadata": {
    "scrolled": false
   },
   "outputs": [
    {
     "data": {
      "image/png": "[encoded data removed]",
      "text/plain": [
       "<Figure size 432x288 with 1 Axes>"
      ]
     },
     "metadata": {
      "needs_background": "light"
     },
     "output_type": "display_data"
    }
   ],
   "source": [
    "#Proctor and Gamble\n",
    "PG_concat['High']['2020-01-01':].plot()\n",
    "plt.axvline('2020-03-23',color='red')\n",
    "plt.axvline('2020-03-27',color='green')\n",
    "plt.axvline('2020-07-04',color='purple')\n",
    "plt.axvline('2020-05-23',color='orange')\n",
    "plt.title('PG Important Dates in 2020')\n",
    "plt.savefig('PG_Important_Dates_in_2020.png');"
   ]
  },
  {
   "cell_type": "markdown",
   "metadata": {},
   "source": [
    "## Univariate single layer Neural network linear regression \n"
   ]
  },
  {
   "cell_type": "code",
   "execution_count": 35,
   "metadata": {
    "scrolled": true
   },
   "outputs": [],
   "source": [
    "#Function for plotting series\n",
    "def plot_series(time, series, format=\"-\", start=0, end=None):\n",
    "    plt.plot(time[start:end], series[start:end], format)\n",
    "    plt.xlabel(\"Time\")\n",
    "    plt.ylabel(\"Value\")\n",
    "    plt.grid(True)"
   ]
  },
  {
   "cell_type": "code",
   "execution_count": 36,
   "metadata": {},
   "outputs": [],
   "source": [
    "#Sliding windows and data transformation\n",
    "def windowed_dataset(series, window_size, batch_size, shuffle_buffer):\n",
    "    dataset = tf.data.Dataset.from_tensor_slices(series)\n",
    "    dataset = dataset.window(window_size + 1, shift=1, drop_remainder=True)\n",
    "    dataset = dataset.flat_map(lambda window: window.batch(window_size + 1))\n",
    "    dataset = dataset.shuffle(shuffle_buffer).map(lambda window: (window[:-1], window[-1]))\n",
    "    dataset = dataset.batch(batch_size).prefetch(1)\n",
    "    return dataset"
   ]
  },
  {
   "cell_type": "code",
   "execution_count": 37,
   "metadata": {},
   "outputs": [],
   "source": [
    "def univariate_single_layer_Neural_Network(company,splittime):\n",
    "    time = np.arange(len(company), dtype=\"float32\")\n",
    "    series_close =company['Close']\n",
    "    series_open =company['Open']\n",
    "    x_train_close  = np.array(company['Close'][:splittime])\n",
    "    x_train_open  = np.array(company['Open'][:splittime])\n",
    "    time_train = time[:splittime]\n",
    "    x_valid_close  = np.array(company['Close'][splittime:])\n",
    "    x_valid_open  = np.array(company['Open'][splittime:])\n",
    "    time_valid = time[splittime:]\n",
    "    split_time =splittime\n",
    "    window_size = 2\n",
    "    batch_size = 34\n",
    "    shuffle_buffer_size = len(company)\n",
    "    split_time = splittime\n",
    "    #Fitting model\n",
    "    dataset_close = windowed_dataset(x_train_close, window_size, batch_size, shuffle_buffer_size)\n",
    "    model_close = tf.keras.models.Sequential([tf.keras.layers.Dense(1, input_shape=[window_size])])\n",
    "    # model_close.add(tf.keras.layers.Dropout(0.2))\n",
    "    model_close.compile(loss=\"mse\", optimizer=tf.keras.optimizers.SGD(lr=1e-7, momentum=0.9))\n",
    "    model_close.fit(dataset_close,epochs=100,verbose=0)\n",
    "    #Fitting model\n",
    "    dataset_open = windowed_dataset(x_train_open, window_size, batch_size, shuffle_buffer_size)\n",
    "    model_open = tf.keras.models.Sequential([tf.keras.layers.Dense(1, input_shape=[window_size])])\n",
    "    model_open.compile(loss=\"mse\", optimizer=tf.keras.optimizers.SGD(lr=1e-7, momentum=0.9))\n",
    "    model_open.fit(dataset_close,epochs=100,verbose=0)\n",
    "    #Forcasting\n",
    "    forecast_close = []\n",
    "    for time in range(len(series_close) - window_size):\n",
    "        forecast_close.append(model_close.predict(np.array(series_close[time:time + window_size])[np.newaxis]))\n",
    "    forecast_close = forecast_close[split_time-window_size:]\n",
    "    results_close = np.array(forecast_close)[:, 0, 0]\n",
    "    #Forcasting\n",
    "    forecast_open = []\n",
    "    for time in range(len(series_open) - window_size):\n",
    "        forecast_open.append(model_open.predict(np.array(series_open[time:time + window_size])[np.newaxis]))\n",
    "    forecast_open = forecast_open[split_time-window_size:]\n",
    "    results_open = np.array(forecast_open)[:, 0, 0]\n",
    "    predicted_open = pd.DataFrame(results_open)\n",
    "    predicted_open.rename(columns={0:'open_predicted'},inplace=True)\n",
    "    predicted_close = pd.DataFrame(results_close)\n",
    "    predicted_close.rename(columns={0:'close_predicted'},inplace=True)\n",
    "    valid_open = pd.DataFrame(x_valid_open)\n",
    "    valid_open.rename(columns={0:'open_valid'},inplace=True)\n",
    "    valid_close = pd.DataFrame(x_valid_close)\n",
    "    valid_close.rename(columns={0:'close_valid'},inplace=True)\n",
    "    open_close_concat = pd.concat([valid_open,valid_close,predicted_open,predicted_close],axis=1)\n",
    "    Long = open_close_concat[open_close_concat['open_predicted']<open_close_concat['close_predicted']]\n",
    "    Long['difference_valid'] = Long['close_valid']-Long['open_valid']\n",
    "    Long['difference_predicted']=Long['close_predicted']-Long['open_predicted']\n",
    "    open_close_concat['difference_valid'] = open_close_concat['close_valid']- open_close_concat['open_valid']\n",
    "    open_close_concat['binary_valid']= open_close_concat['difference_valid'].map(lambda x: 1 if x>0 else 0)\n",
    "    open_close_concat['difference_predicted'] = open_close_concat['close_predicted']- open_close_concat['open_predicted']\n",
    "    open_close_concat['binary_predicted']= open_close_concat['difference_predicted'].map(lambda x: 1 if x>0 else 0)\n",
    "    from sklearn.metrics import precision_score\n",
    "    from sklearn.metrics import accuracy_score\n",
    "    accuracy = accuracy_score(open_close_concat['binary_valid'],open_close_concat['binary_predicted'])\n",
    "    precision= precision_score(open_close_concat['binary_valid'],open_close_concat['binary_predicted'])\n",
    "    from sklearn.metrics import mean_squared_error\n",
    "    rmse = np.sqrt(mean_squared_error(Long['difference_valid'],Long['difference_predicted']))\n",
    "    return sum(Long['difference_valid']), accuracy, precision, rmse\n",
    "    \n",
    "    \n",
    "    "
   ]
  },
  {
   "cell_type": "code",
   "execution_count": 38,
   "metadata": {},
   "outputs": [
    {
     "name": "stdout",
     "output_type": "stream",
     "text": [
      "Accuracy: 0.5739130434782609\n",
      "Precision: 0.6230769230769231\n",
      "Total Profit 158.95000000000005\n",
      "RMSE 9.442168784396303\n"
     ]
    },
    {
     "name": "stderr",
     "output_type": "stream",
     "text": [
      "/Users/jdanielkim123/opt/anaconda3/envs/learn-env/lib/python3.6/site-packages/ipykernel_launcher.py:49: SettingWithCopyWarning: \n",
      "A value is trying to be set on a copy of a slice from a DataFrame.\n",
      "Try using .loc[row_indexer,col_indexer] = value instead\n",
      "\n",
      "See the caveats in the documentation: http://pandas.pydata.org/pandas-docs/stable/user_guide/indexing.html#returning-a-view-versus-a-copy\n",
      "/Users/jdanielkim123/opt/anaconda3/envs/learn-env/lib/python3.6/site-packages/ipykernel_launcher.py:50: SettingWithCopyWarning: \n",
      "A value is trying to be set on a copy of a slice from a DataFrame.\n",
      "Try using .loc[row_indexer,col_indexer] = value instead\n",
      "\n",
      "See the caveats in the documentation: http://pandas.pydata.org/pandas-docs/stable/user_guide/indexing.html#returning-a-view-versus-a-copy\n"
     ]
    }
   ],
   "source": [
    "sum_AAPL, accuracy_AAPL, precision_AAPL, RMSE_AAPL =univariate_single_layer_Neural_Network(AAPL,5478)\n",
    "print('Accuracy:', accuracy_AAPL)\n",
    "print('Precision:', precision_AAPL)\n",
    "print('Total Profit',sum_AAPL)\n",
    "print('RMSE',RMSE_AAPL )"
   ]
  },
  {
   "cell_type": "code",
   "execution_count": 39,
   "metadata": {
    "scrolled": true
   },
   "outputs": [
    {
     "name": "stdout",
     "output_type": "stream",
     "text": [
      "Accuracy: 0.5260869565217391\n",
      "Precision: 0.5431034482758621\n",
      "Total Profit 20.519999999999868\n",
      "RMSE 8.446104581842743\n"
     ]
    },
    {
     "name": "stderr",
     "output_type": "stream",
     "text": [
      "/Users/jdanielkim123/opt/anaconda3/envs/learn-env/lib/python3.6/site-packages/ipykernel_launcher.py:49: SettingWithCopyWarning: \n",
      "A value is trying to be set on a copy of a slice from a DataFrame.\n",
      "Try using .loc[row_indexer,col_indexer] = value instead\n",
      "\n",
      "See the caveats in the documentation: http://pandas.pydata.org/pandas-docs/stable/user_guide/indexing.html#returning-a-view-versus-a-copy\n",
      "/Users/jdanielkim123/opt/anaconda3/envs/learn-env/lib/python3.6/site-packages/ipykernel_launcher.py:50: SettingWithCopyWarning: \n",
      "A value is trying to be set on a copy of a slice from a DataFrame.\n",
      "Try using .loc[row_indexer,col_indexer] = value instead\n",
      "\n",
      "See the caveats in the documentation: http://pandas.pydata.org/pandas-docs/stable/user_guide/indexing.html#returning-a-view-versus-a-copy\n"
     ]
    }
   ],
   "source": [
    "sum_MSFT, accuracy_MSFT, precision_MSFT, RMSE_MSFT =univariate_single_layer_Neural_Network(MSFT,5478)\n",
    "print('Accuracy:', accuracy_MSFT)\n",
    "print('Precision:', precision_MSFT)\n",
    "print('Total Profit',sum_MSFT)\n",
    "print('RMSE',RMSE_MSFT )"
   ]
  },
  {
   "cell_type": "code",
   "execution_count": 41,
   "metadata": {},
   "outputs": [
    {
     "name": "stdout",
     "output_type": "stream",
     "text": [
      "Accuracy: 0.6173913043478261\n",
      "Precision: 0.5925925925925926\n",
      "Total Profit 608.2099999999998\n"
     ]
    },
    {
     "name": "stderr",
     "output_type": "stream",
     "text": [
      "/Users/jdanielkim123/opt/anaconda3/envs/learn-env/lib/python3.6/site-packages/ipykernel_launcher.py:49: SettingWithCopyWarning: \n",
      "A value is trying to be set on a copy of a slice from a DataFrame.\n",
      "Try using .loc[row_indexer,col_indexer] = value instead\n",
      "\n",
      "See the caveats in the documentation: http://pandas.pydata.org/pandas-docs/stable/user_guide/indexing.html#returning-a-view-versus-a-copy\n",
      "/Users/jdanielkim123/opt/anaconda3/envs/learn-env/lib/python3.6/site-packages/ipykernel_launcher.py:50: SettingWithCopyWarning: \n",
      "A value is trying to be set on a copy of a slice from a DataFrame.\n",
      "Try using .loc[row_indexer,col_indexer] = value instead\n",
      "\n",
      "See the caveats in the documentation: http://pandas.pydata.org/pandas-docs/stable/user_guide/indexing.html#returning-a-view-versus-a-copy\n"
     ]
    }
   ],
   "source": [
    "sum_AMZN, accuracy_AMZN, precision_AMZN, RMSE_AMZN =univariate_single_layer_Neural_Network(AMZN,5478)\n",
    "print('Accuracy:', accuracy_AMZN)\n",
    "print('Precision:', precision_AMZN)\n",
    "print('Total Profit',sum_AMZN)"
   ]
  },
  {
   "cell_type": "code",
   "execution_count": 43,
   "metadata": {},
   "outputs": [
    {
     "name": "stdout",
     "output_type": "stream",
     "text": [
      "Accuracy: 0.6434782608695652\n",
      "Precision: 0.6434782608695652\n",
      "Total Profit 81.81000000000017\n",
      "RMSE 3.5157596757083365\n"
     ]
    },
    {
     "name": "stderr",
     "output_type": "stream",
     "text": [
      "/Users/jdanielkim123/opt/anaconda3/envs/learn-env/lib/python3.6/site-packages/ipykernel_launcher.py:49: SettingWithCopyWarning: \n",
      "A value is trying to be set on a copy of a slice from a DataFrame.\n",
      "Try using .loc[row_indexer,col_indexer] = value instead\n",
      "\n",
      "See the caveats in the documentation: http://pandas.pydata.org/pandas-docs/stable/user_guide/indexing.html#returning-a-view-versus-a-copy\n",
      "/Users/jdanielkim123/opt/anaconda3/envs/learn-env/lib/python3.6/site-packages/ipykernel_launcher.py:50: SettingWithCopyWarning: \n",
      "A value is trying to be set on a copy of a slice from a DataFrame.\n",
      "Try using .loc[row_indexer,col_indexer] = value instead\n",
      "\n",
      "See the caveats in the documentation: http://pandas.pydata.org/pandas-docs/stable/user_guide/indexing.html#returning-a-view-versus-a-copy\n"
     ]
    }
   ],
   "source": [
    "sum_BRK_B, accuracy_BRK_B, precision_BRK_B, RMSE_BRK_B =univariate_single_layer_Neural_Network(BRK_B,5478)\n",
    "print('Accuracy:', accuracy_BRK_B)\n",
    "print('Precision:', precision_BRK_B)\n",
    "print('Total Profit',sum_BRK_B)\n",
    "print('RMSE',RMSE_BRK_B)"
   ]
  },
  {
   "cell_type": "code",
   "execution_count": 44,
   "metadata": {},
   "outputs": [
    {
     "name": "stdout",
     "output_type": "stream",
     "text": [
      "Accuracy: 0.591304347826087\n",
      "Precision: 0.6159420289855072\n",
      "Total Profit 618.989999999998\n",
      "RMSE 32.279125835959526\n"
     ]
    },
    {
     "name": "stderr",
     "output_type": "stream",
     "text": [
      "/Users/jdanielkim123/opt/anaconda3/envs/learn-env/lib/python3.6/site-packages/ipykernel_launcher.py:49: SettingWithCopyWarning: \n",
      "A value is trying to be set on a copy of a slice from a DataFrame.\n",
      "Try using .loc[row_indexer,col_indexer] = value instead\n",
      "\n",
      "See the caveats in the documentation: http://pandas.pydata.org/pandas-docs/stable/user_guide/indexing.html#returning-a-view-versus-a-copy\n",
      "/Users/jdanielkim123/opt/anaconda3/envs/learn-env/lib/python3.6/site-packages/ipykernel_launcher.py:50: SettingWithCopyWarning: \n",
      "A value is trying to be set on a copy of a slice from a DataFrame.\n",
      "Try using .loc[row_indexer,col_indexer] = value instead\n",
      "\n",
      "See the caveats in the documentation: http://pandas.pydata.org/pandas-docs/stable/user_guide/indexing.html#returning-a-view-versus-a-copy\n"
     ]
    }
   ],
   "source": [
    "sum_GOOGL, accuracy_GOOGL, precision_GOOGL,RMSE_GOOGL =univariate_single_layer_Neural_Network(GOOGL,5478)\n",
    "print('Accuracy:', accuracy_GOOGL)\n",
    "print('Precision:', precision_GOOGL)\n",
    "print('Total Profit',sum_GOOGL)\n",
    "print('RMSE',RMSE_GOOGL)"
   ]
  },
  {
   "cell_type": "code",
   "execution_count": 45,
   "metadata": {},
   "outputs": [
    {
     "name": "stdout",
     "output_type": "stream",
     "text": [
      "Accuracy: 0.5869565217391305\n",
      "Precision: 0.5686274509803921\n",
      "Total Profit 37.640000000000114\n",
      "RMSE 3.167598818856859\n"
     ]
    },
    {
     "name": "stderr",
     "output_type": "stream",
     "text": [
      "/Users/jdanielkim123/opt/anaconda3/envs/learn-env/lib/python3.6/site-packages/ipykernel_launcher.py:49: SettingWithCopyWarning: \n",
      "A value is trying to be set on a copy of a slice from a DataFrame.\n",
      "Try using .loc[row_indexer,col_indexer] = value instead\n",
      "\n",
      "See the caveats in the documentation: http://pandas.pydata.org/pandas-docs/stable/user_guide/indexing.html#returning-a-view-versus-a-copy\n",
      "/Users/jdanielkim123/opt/anaconda3/envs/learn-env/lib/python3.6/site-packages/ipykernel_launcher.py:50: SettingWithCopyWarning: \n",
      "A value is trying to be set on a copy of a slice from a DataFrame.\n",
      "Try using .loc[row_indexer,col_indexer] = value instead\n",
      "\n",
      "See the caveats in the documentation: http://pandas.pydata.org/pandas-docs/stable/user_guide/indexing.html#returning-a-view-versus-a-copy\n"
     ]
    }
   ],
   "source": [
    "sum_JNJ, accuracy_JNJ, precision_JNJ, RMSE_JNJ =univariate_single_layer_Neural_Network(JNJ,5478)\n",
    "print('Accuracy:', accuracy_JNJ)\n",
    "print('Precision:', precision_JNJ)\n",
    "print('Total Profit',sum_JNJ)\n",
    "print('RMSE',RMSE_JNJ)"
   ]
  },
  {
   "cell_type": "code",
   "execution_count": 46,
   "metadata": {},
   "outputs": [
    {
     "name": "stdout",
     "output_type": "stream",
     "text": [
      "Accuracy: 0.5347826086956522\n",
      "Precision: 0.43157894736842106\n",
      "Total Profit 8.129999999999797\n",
      "RMSE 4.130226651338521\n"
     ]
    },
    {
     "name": "stderr",
     "output_type": "stream",
     "text": [
      "/Users/jdanielkim123/opt/anaconda3/envs/learn-env/lib/python3.6/site-packages/ipykernel_launcher.py:49: SettingWithCopyWarning: \n",
      "A value is trying to be set on a copy of a slice from a DataFrame.\n",
      "Try using .loc[row_indexer,col_indexer] = value instead\n",
      "\n",
      "See the caveats in the documentation: http://pandas.pydata.org/pandas-docs/stable/user_guide/indexing.html#returning-a-view-versus-a-copy\n",
      "/Users/jdanielkim123/opt/anaconda3/envs/learn-env/lib/python3.6/site-packages/ipykernel_launcher.py:50: SettingWithCopyWarning: \n",
      "A value is trying to be set on a copy of a slice from a DataFrame.\n",
      "Try using .loc[row_indexer,col_indexer] = value instead\n",
      "\n",
      "See the caveats in the documentation: http://pandas.pydata.org/pandas-docs/stable/user_guide/indexing.html#returning-a-view-versus-a-copy\n"
     ]
    }
   ],
   "source": [
    "sum_JPM, accuracy_JPM, precision_JPM, RMSE_JPM=univariate_single_layer_Neural_Network(JPM,5478)\n",
    "print('Accuracy:', accuracy_JPM)\n",
    "print('Precision:', precision_JPM)\n",
    "print('Total Profit',sum_JPM)\n",
    "print('RMSE',RMSE_JPM)"
   ]
  },
  {
   "cell_type": "code",
   "execution_count": 47,
   "metadata": {},
   "outputs": [
    {
     "name": "stdout",
     "output_type": "stream",
     "text": [
      "Accuracy: 0.6043478260869565\n",
      "Precision: 0.6541353383458647\n",
      "Total Profit 69.74999999999982\n",
      "RMSE 2.670334256090613\n"
     ]
    },
    {
     "name": "stderr",
     "output_type": "stream",
     "text": [
      "/Users/jdanielkim123/opt/anaconda3/envs/learn-env/lib/python3.6/site-packages/ipykernel_launcher.py:49: SettingWithCopyWarning: \n",
      "A value is trying to be set on a copy of a slice from a DataFrame.\n",
      "Try using .loc[row_indexer,col_indexer] = value instead\n",
      "\n",
      "See the caveats in the documentation: http://pandas.pydata.org/pandas-docs/stable/user_guide/indexing.html#returning-a-view-versus-a-copy\n",
      "/Users/jdanielkim123/opt/anaconda3/envs/learn-env/lib/python3.6/site-packages/ipykernel_launcher.py:50: SettingWithCopyWarning: \n",
      "A value is trying to be set on a copy of a slice from a DataFrame.\n",
      "Try using .loc[row_indexer,col_indexer] = value instead\n",
      "\n",
      "See the caveats in the documentation: http://pandas.pydata.org/pandas-docs/stable/user_guide/indexing.html#returning-a-view-versus-a-copy\n"
     ]
    }
   ],
   "source": [
    "sum_PG, accuracy_PG, precision_PG, RMSE_PG =univariate_single_layer_Neural_Network(PG,5478)\n",
    "print('Accuracy:', accuracy_PG)\n",
    "print('Precision:', precision_PG)\n",
    "print('Total Profit',sum_PG)\n",
    "print('RMSE',RMSE_PG)"
   ]
  },
  {
   "cell_type": "code",
   "execution_count": 48,
   "metadata": {},
   "outputs": [],
   "source": [
    "companies = [AAPL,MSFT,AMZN,PG,JNJ,JPM,BRK_B,GOOGL]"
   ]
  },
  {
   "cell_type": "code",
   "execution_count": 49,
   "metadata": {
    "scrolled": true
   },
   "outputs": [
    {
     "data": {
      "text/plain": [
       "6274.8"
      ]
     },
     "execution_count": 49,
     "metadata": {},
     "output_type": "execute_result"
    }
   ],
   "source": [
    "count_high=0\n",
    "for i in companies:\n",
    "    count_high+= max(i['High'])\n",
    "count_high "
   ]
  },
  {
   "cell_type": "code",
   "execution_count": 50,
   "metadata": {},
   "outputs": [
    {
     "data": {
      "text/plain": [
       "1603.9999999999975"
      ]
     },
     "execution_count": 50,
     "metadata": {},
     "output_type": "execute_result"
    }
   ],
   "source": [
    "summing=[sum_PG,sum_JPM,sum_JNJ,sum_GOOGL,sum_BRK_B,sum_AMZN,sum_MSFT,sum_AAPL]\n",
    "sums=0\n",
    "for i in summing:\n",
    "    sums+= i\n",
    "sums \n"
   ]
  },
  {
   "cell_type": "code",
   "execution_count": 51,
   "metadata": {},
   "outputs": [],
   "source": [
    "percent = (sums/count_high)*100"
   ]
  },
  {
   "cell_type": "code",
   "execution_count": 52,
   "metadata": {},
   "outputs": [
    {
     "name": "stdout",
     "output_type": "stream",
     "text": [
      "If you put in 6274.8 dollars you will have a return of 1604.0 , which is a 25.56 % return in 2020 so far.\n"
     ]
    }
   ],
   "source": [
    "print('If you put in', round(count_high,2), 'dollars you will have a return of', round(sums,2),', which is a',  round(percent,2),'% return in 2020 so far.')"
   ]
  },
  {
   "cell_type": "markdown",
   "metadata": {},
   "source": [
    "# Top 5 volitile stocks Univariate Single NN"
   ]
  },
  {
   "cell_type": "code",
   "execution_count": 53,
   "metadata": {},
   "outputs": [],
   "source": [
    "#Top 5 volitile stocks\n",
    "UBX = yfinance_import('UBX').resample('D').ffill()['2018-05-03':]\n",
    "LODE = yfinance_import('LODE').resample('D').ffill()['2010-07-21':]\n",
    "CLUB= yfinance_import('CLUB').resample('D').ffill()['2006-06-02':]\n",
    "IDXG= yfinance_import('IDXG').resample('D').ffill()['2005-01-01':]\n",
    "KGJI = yfinance_import('KGJI').resample('D').ffill()['2005-01-01':]"
   ]
  },
  {
   "cell_type": "code",
   "execution_count": 55,
   "metadata": {},
   "outputs": [
    {
     "name": "stdout",
     "output_type": "stream",
     "text": [
      "Accuracy: 0.5695652173913044\n",
      "Precision: 0.4461538461538462\n",
      "Total Profit 0.2800000000000003\n",
      "RMSE 0.08189612134038092\n"
     ]
    },
    {
     "name": "stderr",
     "output_type": "stream",
     "text": [
      "/Users/jdanielkim123/opt/anaconda3/envs/learn-env/lib/python3.6/site-packages/ipykernel_launcher.py:49: SettingWithCopyWarning: \n",
      "A value is trying to be set on a copy of a slice from a DataFrame.\n",
      "Try using .loc[row_indexer,col_indexer] = value instead\n",
      "\n",
      "See the caveats in the documentation: http://pandas.pydata.org/pandas-docs/stable/user_guide/indexing.html#returning-a-view-versus-a-copy\n",
      "/Users/jdanielkim123/opt/anaconda3/envs/learn-env/lib/python3.6/site-packages/ipykernel_launcher.py:50: SettingWithCopyWarning: \n",
      "A value is trying to be set on a copy of a slice from a DataFrame.\n",
      "Try using .loc[row_indexer,col_indexer] = value instead\n",
      "\n",
      "See the caveats in the documentation: http://pandas.pydata.org/pandas-docs/stable/user_guide/indexing.html#returning-a-view-versus-a-copy\n"
     ]
    }
   ],
   "source": [
    "sum_LODE, accuracy_LODE, precision_LODE, RMSE_LODE =univariate_single_layer_Neural_Network(LODE, 3451)\n",
    "print('Accuracy:', accuracy_LODE)\n",
    "print('Precision:', precision_LODE)\n",
    "print('Total Profit',sum_LODE)\n",
    "print('RMSE',RMSE_LODE)"
   ]
  },
  {
   "cell_type": "code",
   "execution_count": 56,
   "metadata": {},
   "outputs": [
    {
     "name": "stdout",
     "output_type": "stream",
     "text": [
      "Accuracy: 0.45652173913043476\n",
      "Precision: 0.45652173913043476\n",
      "Total Profit -6.734999999999999\n",
      "RMSE 7.586273500009842\n"
     ]
    }
   ],
   "source": [
    "sum_UBX, accuracy_UBX, precision_UBX, RMSE_UBX =univariate_single_layer_Neural_Network(UBX,608)\n",
    "print('Accuracy:', accuracy_UBX)\n",
    "print('Precision:', precision_UBX)\n",
    "print('Total Profit',sum_UBX)\n",
    "print('RMSE',RMSE_UBX)"
   ]
  },
  {
   "cell_type": "code",
   "execution_count": 57,
   "metadata": {},
   "outputs": [
    {
     "name": "stdout",
     "output_type": "stream",
     "text": [
      "Accuracy: 0.6\n",
      "Precision: 0.4044943820224719\n",
      "Total Profit 1.4700000000000029\n",
      "RMSE 0.24535584487192208\n"
     ]
    },
    {
     "name": "stderr",
     "output_type": "stream",
     "text": [
      "/Users/jdanielkim123/opt/anaconda3/envs/learn-env/lib/python3.6/site-packages/ipykernel_launcher.py:49: SettingWithCopyWarning: \n",
      "A value is trying to be set on a copy of a slice from a DataFrame.\n",
      "Try using .loc[row_indexer,col_indexer] = value instead\n",
      "\n",
      "See the caveats in the documentation: http://pandas.pydata.org/pandas-docs/stable/user_guide/indexing.html#returning-a-view-versus-a-copy\n",
      "/Users/jdanielkim123/opt/anaconda3/envs/learn-env/lib/python3.6/site-packages/ipykernel_launcher.py:50: SettingWithCopyWarning: \n",
      "A value is trying to be set on a copy of a slice from a DataFrame.\n",
      "Try using .loc[row_indexer,col_indexer] = value instead\n",
      "\n",
      "See the caveats in the documentation: http://pandas.pydata.org/pandas-docs/stable/user_guide/indexing.html#returning-a-view-versus-a-copy\n"
     ]
    }
   ],
   "source": [
    "sum_CLUB, accuracy_CLUB, precision_CLUB, RMSE_CLUB =univariate_single_layer_Neural_Network(CLUB,4961)\n",
    "print('Accuracy:', accuracy_CLUB)\n",
    "print('Precision:', precision_CLUB)\n",
    "print('Total Profit',sum_CLUB)\n",
    "print('RMSE',RMSE_CLUB)"
   ]
  },
  {
   "cell_type": "code",
   "execution_count": 58,
   "metadata": {},
   "outputs": [
    {
     "name": "stdout",
     "output_type": "stream",
     "text": [
      "Accuracy: 0.6521739130434783\n",
      "Precision: 0.6095238095238096\n",
      "Total Profit 8.299999999999997\n",
      "RMSE 0.4031609601122602\n"
     ]
    },
    {
     "name": "stderr",
     "output_type": "stream",
     "text": [
      "/Users/jdanielkim123/opt/anaconda3/envs/learn-env/lib/python3.6/site-packages/ipykernel_launcher.py:49: SettingWithCopyWarning: \n",
      "A value is trying to be set on a copy of a slice from a DataFrame.\n",
      "Try using .loc[row_indexer,col_indexer] = value instead\n",
      "\n",
      "See the caveats in the documentation: http://pandas.pydata.org/pandas-docs/stable/user_guide/indexing.html#returning-a-view-versus-a-copy\n",
      "/Users/jdanielkim123/opt/anaconda3/envs/learn-env/lib/python3.6/site-packages/ipykernel_launcher.py:50: SettingWithCopyWarning: \n",
      "A value is trying to be set on a copy of a slice from a DataFrame.\n",
      "Try using .loc[row_indexer,col_indexer] = value instead\n",
      "\n",
      "See the caveats in the documentation: http://pandas.pydata.org/pandas-docs/stable/user_guide/indexing.html#returning-a-view-versus-a-copy\n"
     ]
    }
   ],
   "source": [
    "sum_IDXG, accuracy_IDXG, precision_IDXG, RMSE_IDXG =univariate_single_layer_Neural_Network(IDXG,5478)\n",
    "print('Accuracy:', accuracy_IDXG)\n",
    "print('Precision:', precision_IDXG)\n",
    "print('Total Profit',sum_IDXG)\n",
    "print('RMSE',RMSE_IDXG)"
   ]
  },
  {
   "cell_type": "code",
   "execution_count": 61,
   "metadata": {},
   "outputs": [
    {
     "name": "stdout",
     "output_type": "stream",
     "text": [
      "Accuracy: 0.6043478260869565\n",
      "Precision: 0.4838709677419355\n",
      "Total Profit 0.11999999999999994\n",
      "RMSE 0.1959751561454384\n"
     ]
    },
    {
     "name": "stderr",
     "output_type": "stream",
     "text": [
      "/Users/jdanielkim123/opt/anaconda3/envs/learn-env/lib/python3.6/site-packages/ipykernel_launcher.py:49: SettingWithCopyWarning: \n",
      "A value is trying to be set on a copy of a slice from a DataFrame.\n",
      "Try using .loc[row_indexer,col_indexer] = value instead\n",
      "\n",
      "See the caveats in the documentation: http://pandas.pydata.org/pandas-docs/stable/user_guide/indexing.html#returning-a-view-versus-a-copy\n",
      "/Users/jdanielkim123/opt/anaconda3/envs/learn-env/lib/python3.6/site-packages/ipykernel_launcher.py:50: SettingWithCopyWarning: \n",
      "A value is trying to be set on a copy of a slice from a DataFrame.\n",
      "Try using .loc[row_indexer,col_indexer] = value instead\n",
      "\n",
      "See the caveats in the documentation: http://pandas.pydata.org/pandas-docs/stable/user_guide/indexing.html#returning-a-view-versus-a-copy\n"
     ]
    }
   ],
   "source": [
    "sum_KGJI, accuracy_KGJI, precision_KGJI, RMSE_KGJI =univariate_single_layer_Neural_Network(KGJI,5478)\n",
    "print('Accuracy:', accuracy_KGJI)\n",
    "print('Precision:', precision_KGJI)\n",
    "print('Total Profit',sum_KGJI)\n",
    "print('RMSE',RMSE_KGJI)"
   ]
  },
  {
   "cell_type": "code",
   "execution_count": 62,
   "metadata": {},
   "outputs": [
    {
     "data": {
      "text/plain": [
       "3.4350000000000014"
      ]
     },
     "execution_count": 62,
     "metadata": {},
     "output_type": "execute_result"
    }
   ],
   "source": [
    "summing=[sum_LODE,sum_UBX,sum_CLUB,sum_IDXG,sum_KGJI]\n",
    "sums=0\n",
    "for i in summing:\n",
    "    sums+= i\n",
    "sums \n"
   ]
  },
  {
   "cell_type": "code",
   "execution_count": 63,
   "metadata": {},
   "outputs": [],
   "source": [
    "companying=[LODE,UBX,CLUB,IDXG,KGJI]"
   ]
  },
  {
   "cell_type": "code",
   "execution_count": 64,
   "metadata": {},
   "outputs": [
    {
     "data": {
      "text/plain": [
       "2412.2704"
      ]
     },
     "execution_count": 64,
     "metadata": {},
     "output_type": "execute_result"
    }
   ],
   "source": [
    "count_high=0\n",
    "for i in companying:\n",
    "    count_high+= max(i['High'])\n",
    "count_high "
   ]
  },
  {
   "cell_type": "code",
   "execution_count": 65,
   "metadata": {},
   "outputs": [],
   "source": [
    "percent = (sums/count_high)*100"
   ]
  },
  {
   "cell_type": "code",
   "execution_count": 66,
   "metadata": {},
   "outputs": [
    {
     "name": "stdout",
     "output_type": "stream",
     "text": [
      "If you put in 2412.27 dollars you will have a return of 3.44 , which is a 0.14 % return in 2020 so far.\n"
     ]
    }
   ],
   "source": [
    "print('If you put in', round(count_high,2), 'dollars you will have a return of', round(sums,2),', which is a',  round(percent,2),'% return in 2020 so far.')"
   ]
  },
  {
   "cell_type": "markdown",
   "metadata": {},
   "source": [
    "## Top 5 Hand Selected Stocks"
   ]
  },
  {
   "cell_type": "code",
   "execution_count": 67,
   "metadata": {},
   "outputs": [],
   "source": [
    "TSLA = yfinance_import('TSLA').resample('D').ffill()['2005-01-01':]\n",
    "ISRG = yfinance_import('ISRG').resample('D').ffill()['2005-01-01':]"
   ]
  },
  {
   "cell_type": "code",
   "execution_count": 68,
   "metadata": {},
   "outputs": [
    {
     "name": "stdout",
     "output_type": "stream",
     "text": [
      "Accuracy: 0.6130434782608696\n",
      "Precision: 0.6095238095238096\n",
      "Total Profit 424.0399999999993\n",
      "RMSE 47.601468252651415\n"
     ]
    },
    {
     "name": "stderr",
     "output_type": "stream",
     "text": [
      "/Users/jdanielkim123/opt/anaconda3/envs/learn-env/lib/python3.6/site-packages/ipykernel_launcher.py:49: SettingWithCopyWarning: \n",
      "A value is trying to be set on a copy of a slice from a DataFrame.\n",
      "Try using .loc[row_indexer,col_indexer] = value instead\n",
      "\n",
      "See the caveats in the documentation: http://pandas.pydata.org/pandas-docs/stable/user_guide/indexing.html#returning-a-view-versus-a-copy\n",
      "/Users/jdanielkim123/opt/anaconda3/envs/learn-env/lib/python3.6/site-packages/ipykernel_launcher.py:50: SettingWithCopyWarning: \n",
      "A value is trying to be set on a copy of a slice from a DataFrame.\n",
      "Try using .loc[row_indexer,col_indexer] = value instead\n",
      "\n",
      "See the caveats in the documentation: http://pandas.pydata.org/pandas-docs/stable/user_guide/indexing.html#returning-a-view-versus-a-copy\n"
     ]
    }
   ],
   "source": [
    "sum_TSLA, accuracy_TSLA, precision_TSLA, RMSE_TSLA =univariate_single_layer_Neural_Network(TSLA,3473)\n",
    "print('Accuracy:', accuracy_TSLA)\n",
    "print('Precision:', precision_TSLA)\n",
    "print('Total Profit',sum_TSLA)\n",
    "print('RMSE',RMSE_TSLA)"
   ]
  },
  {
   "cell_type": "code",
   "execution_count": 69,
   "metadata": {},
   "outputs": [
    {
     "name": "stdout",
     "output_type": "stream",
     "text": [
      "Accuracy: 0.6347826086956522\n",
      "Precision: 0.6068376068376068\n",
      "Total Profit 426.67000000000036\n",
      "RMSE 11.5163907055924\n"
     ]
    },
    {
     "name": "stderr",
     "output_type": "stream",
     "text": [
      "/Users/jdanielkim123/opt/anaconda3/envs/learn-env/lib/python3.6/site-packages/ipykernel_launcher.py:49: SettingWithCopyWarning: \n",
      "A value is trying to be set on a copy of a slice from a DataFrame.\n",
      "Try using .loc[row_indexer,col_indexer] = value instead\n",
      "\n",
      "See the caveats in the documentation: http://pandas.pydata.org/pandas-docs/stable/user_guide/indexing.html#returning-a-view-versus-a-copy\n",
      "/Users/jdanielkim123/opt/anaconda3/envs/learn-env/lib/python3.6/site-packages/ipykernel_launcher.py:50: SettingWithCopyWarning: \n",
      "A value is trying to be set on a copy of a slice from a DataFrame.\n",
      "Try using .loc[row_indexer,col_indexer] = value instead\n",
      "\n",
      "See the caveats in the documentation: http://pandas.pydata.org/pandas-docs/stable/user_guide/indexing.html#returning-a-view-versus-a-copy\n"
     ]
    }
   ],
   "source": [
    "sum_ISRG, accuracy_ISRG, precision_ISRG, RMSE_ISRG =univariate_single_layer_Neural_Network(ISRG,5478)\n",
    "print('Accuracy:', accuracy_ISRG)\n",
    "print('Precision:', precision_ISRG)\n",
    "print('Total Profit',sum_ISRG)\n",
    "print('RMSE',RMSE_ISRG)"
   ]
  },
  {
   "cell_type": "code",
   "execution_count": 70,
   "metadata": {},
   "outputs": [
    {
     "name": "stdout",
     "output_type": "stream",
     "text": [
      "Accuracy: 0.6086956521739131\n",
      "Precision: 0.6428571428571429\n",
      "Total Profit 571.0899999999981\n",
      "RMSE 28.787329232586703\n"
     ]
    },
    {
     "name": "stderr",
     "output_type": "stream",
     "text": [
      "/Users/jdanielkim123/opt/anaconda3/envs/learn-env/lib/python3.6/site-packages/ipykernel_launcher.py:49: SettingWithCopyWarning: \n",
      "A value is trying to be set on a copy of a slice from a DataFrame.\n",
      "Try using .loc[row_indexer,col_indexer] = value instead\n",
      "\n",
      "See the caveats in the documentation: http://pandas.pydata.org/pandas-docs/stable/user_guide/indexing.html#returning-a-view-versus-a-copy\n",
      "/Users/jdanielkim123/opt/anaconda3/envs/learn-env/lib/python3.6/site-packages/ipykernel_launcher.py:50: SettingWithCopyWarning: \n",
      "A value is trying to be set on a copy of a slice from a DataFrame.\n",
      "Try using .loc[row_indexer,col_indexer] = value instead\n",
      "\n",
      "See the caveats in the documentation: http://pandas.pydata.org/pandas-docs/stable/user_guide/indexing.html#returning-a-view-versus-a-copy\n"
     ]
    }
   ],
   "source": [
    "sum_GOOGL, accuracy_GOOGL, precision_GOOGL, RMSE_GOOGL =univariate_single_layer_Neural_Network(GOOGL,5478)\n",
    "print('Accuracy:', accuracy_GOOGL)\n",
    "print('Precision:', precision_GOOGL)\n",
    "print('Total Profit',sum_GOOGL)\n",
    "print('RMSE',RMSE_GOOGL)\n"
   ]
  },
  {
   "cell_type": "code",
   "execution_count": 71,
   "metadata": {},
   "outputs": [
    {
     "name": "stdout",
     "output_type": "stream",
     "text": [
      "Accuracy: 0.6173913043478261\n",
      "Precision: 0.5877192982456141\n",
      "Total Profit 576.9599999999994\n",
      "RMSE 52.20002285563275\n"
     ]
    },
    {
     "name": "stderr",
     "output_type": "stream",
     "text": [
      "/Users/jdanielkim123/opt/anaconda3/envs/learn-env/lib/python3.6/site-packages/ipykernel_launcher.py:49: SettingWithCopyWarning: \n",
      "A value is trying to be set on a copy of a slice from a DataFrame.\n",
      "Try using .loc[row_indexer,col_indexer] = value instead\n",
      "\n",
      "See the caveats in the documentation: http://pandas.pydata.org/pandas-docs/stable/user_guide/indexing.html#returning-a-view-versus-a-copy\n",
      "/Users/jdanielkim123/opt/anaconda3/envs/learn-env/lib/python3.6/site-packages/ipykernel_launcher.py:50: SettingWithCopyWarning: \n",
      "A value is trying to be set on a copy of a slice from a DataFrame.\n",
      "Try using .loc[row_indexer,col_indexer] = value instead\n",
      "\n",
      "See the caveats in the documentation: http://pandas.pydata.org/pandas-docs/stable/user_guide/indexing.html#returning-a-view-versus-a-copy\n"
     ]
    }
   ],
   "source": [
    "sum_AMZN, accuracy_AMZN, precision_AMZN, RMSE_AMZN =univariate_single_layer_Neural_Network(AMZN,5478)\n",
    "print('Accuracy:', accuracy_AMZN)\n",
    "print('Precision:', precision_AMZN)\n",
    "print('Total Profit',sum_AMZN)\n",
    "print('RMSE',RMSE_AMZN)"
   ]
  },
  {
   "cell_type": "code",
   "execution_count": 72,
   "metadata": {},
   "outputs": [
    {
     "name": "stdout",
     "output_type": "stream",
     "text": [
      "Accuracy: 0.5608695652173913\n",
      "Precision: 0.6178861788617886\n",
      "Total Profit 177.38999999999996\n",
      "RMSE 17.247963662892566\n"
     ]
    },
    {
     "name": "stderr",
     "output_type": "stream",
     "text": [
      "/Users/jdanielkim123/opt/anaconda3/envs/learn-env/lib/python3.6/site-packages/ipykernel_launcher.py:49: SettingWithCopyWarning: \n",
      "A value is trying to be set on a copy of a slice from a DataFrame.\n",
      "Try using .loc[row_indexer,col_indexer] = value instead\n",
      "\n",
      "See the caveats in the documentation: http://pandas.pydata.org/pandas-docs/stable/user_guide/indexing.html#returning-a-view-versus-a-copy\n",
      "/Users/jdanielkim123/opt/anaconda3/envs/learn-env/lib/python3.6/site-packages/ipykernel_launcher.py:50: SettingWithCopyWarning: \n",
      "A value is trying to be set on a copy of a slice from a DataFrame.\n",
      "Try using .loc[row_indexer,col_indexer] = value instead\n",
      "\n",
      "See the caveats in the documentation: http://pandas.pydata.org/pandas-docs/stable/user_guide/indexing.html#returning-a-view-versus-a-copy\n"
     ]
    }
   ],
   "source": [
    "sum_AAPL, accuracy_AAPL, precision_AAPL, RMSE_AAPL =univariate_single_layer_Neural_Network(AAPL,5478)\n",
    "print('Accuracy:', accuracy_AAPL)\n",
    "print('Precision:', precision_AAPL)\n",
    "print('Total Profit',sum_AAPL)\n",
    "print('RMSE',RMSE_AAPL)\n"
   ]
  },
  {
   "cell_type": "code",
   "execution_count": 73,
   "metadata": {},
   "outputs": [
    {
     "data": {
      "text/plain": [
       "2176.149999999997"
      ]
     },
     "execution_count": 73,
     "metadata": {},
     "output_type": "execute_result"
    }
   ],
   "source": [
    "summing=[sum_TSLA,sum_ISRG,sum_GOOGL,sum_AMZN,sum_AAPL]\n",
    "sums=0\n",
    "for i in summing:\n",
    "    sums+= i\n",
    "sums \n"
   ]
  },
  {
   "cell_type": "code",
   "execution_count": 74,
   "metadata": {},
   "outputs": [],
   "source": [
    "companying=[AMZN, AAPL, GOOGL, TSLA, ISRG]"
   ]
  },
  {
   "cell_type": "code",
   "execution_count": 75,
   "metadata": {},
   "outputs": [
    {
     "data": {
      "text/plain": [
       "7945.549999999999"
      ]
     },
     "execution_count": 75,
     "metadata": {},
     "output_type": "execute_result"
    }
   ],
   "source": [
    "count_high=0\n",
    "for i in companying:\n",
    "    count_high+= max(i['High'])\n",
    "count_high "
   ]
  },
  {
   "cell_type": "code",
   "execution_count": 76,
   "metadata": {},
   "outputs": [],
   "source": [
    "percent = (sums/count_high)*100"
   ]
  },
  {
   "cell_type": "code",
   "execution_count": 77,
   "metadata": {},
   "outputs": [
    {
     "name": "stdout",
     "output_type": "stream",
     "text": [
      "If you put in 7945.55 dollars you will have a return of 2176.15 , which is a 27.39 % return in 2020 so far.\n"
     ]
    }
   ],
   "source": [
    "print('If you put in', round(count_high,2), 'dollars you will have a return of', round(sums,2),', which is a',  round(percent,2),'% return in 2020 so far.')"
   ]
  },
  {
   "cell_type": "markdown",
   "metadata": {},
   "source": [
    "## Univariate LSTM Time series model "
   ]
  },
  {
   "cell_type": "code",
   "execution_count": 78,
   "metadata": {},
   "outputs": [],
   "source": [
    "#Transforming dataset \n",
    "def creat_dataset(X,y,time_steps=1):\n",
    "    Xs, ys =[],[]\n",
    "    for i in range(len(X)-time_steps):\n",
    "        v=X.iloc[i:(i+time_steps)].to_numpy()\n",
    "        Xs.append(v)\n",
    "        ys.append(y.iloc[i+time_steps])\n",
    "    return np.array(Xs), np.array(ys)"
   ]
  },
  {
   "cell_type": "code",
   "execution_count": 79,
   "metadata": {},
   "outputs": [],
   "source": [
    "def univariate_lstm_model(company,starttime,splittime):\n",
    "    company2 = -(company - company['High'].max())/(company['High'].max()-company['Low'].min())\n",
    "    x_train_close  = pd.DataFrame(company2['Close'][starttime:splittime])\n",
    "    x_train_open  = pd.DataFrame(company2['Open'][starttime:splittime])\n",
    "    x_valid_close  = pd.DataFrame(company2['Close'][splittime:])\n",
    "    x_valid_open  = pd.DataFrame(company2['Open'][splittime:])\n",
    "#     time_valid = time[splittime:]\n",
    "    TIME_STEPS = 2\n",
    "    X_train_close, y_train_close = creat_dataset(x_train_close, x_train_close['Close'], time_steps=TIME_STEPS)\n",
    "    X_train_open, y_train_open = creat_dataset(x_train_open, x_train_open['Open'], time_steps=TIME_STEPS)\n",
    "    X_valid_close, y_valid_close = creat_dataset(x_valid_close, x_valid_close['Close'], time_steps=TIME_STEPS)\n",
    "    X_valid_open, y_valid_open = creat_dataset(x_valid_open, x_valid_open['Open'], time_steps=TIME_STEPS)\n",
    "    #Modeling and predicting\n",
    "    from tensorflow import keras\n",
    "    model = keras.Sequential()\n",
    "    model.add(keras.layers.LSTM(units=200,input_shape=(X_train_close.shape[1], X_train_close.shape[2])))\n",
    "    model.add(keras.layers.Dense(units=1))\n",
    "    model.compile(loss='mse',optimizer='adam')\n",
    "    history = model.fit(X_train_close, y_train_close, epochs = 100, batch_size=30,shuffle=False,verbose=0)\n",
    "    y_pred_close=model.predict(X_valid_close)\n",
    "    y_predicting_values = pd.DataFrame(y_pred_close.reshape(1,-1)).T\n",
    "    y_test_values_close = pd.DataFrame(y_valid_close.reshape(1,-1)).T\n",
    "    #Modeling and predicting\n",
    "    model = keras.Sequential()\n",
    "    model.add(keras.layers.LSTM(units=200,input_shape=(X_train_open.shape[1], X_train_open.shape[2])))\n",
    "    model.add(keras.layers.Dense(units=1))\n",
    "    model.compile(loss='mse',optimizer='adam')\n",
    "    history = model.fit(X_train_open, y_train_open, epochs = 100, batch_size=30,shuffle=False,verbose=0)\n",
    "    y_pred_open=model.predict(X_valid_open)\n",
    "    y_predicting_values_open = pd.DataFrame(y_pred_open.reshape(1,-1)).T\n",
    "    y_test_values_open = pd.DataFrame(y_valid_open.reshape(1,-1)).T\n",
    "    y_predicting_values.rename(columns={0:'close_predicted'},inplace=True)\n",
    "    y_test_values_close.rename(columns={0:'close_valid'},inplace=True)\n",
    "    y_predicting_values_open.rename(columns={0:'open_predicted'},inplace=True)\n",
    "    y_test_values_open.rename(columns={0:'open_valid'},inplace=True)\n",
    "    concat_all = pd.concat([y_predicting_values,y_predicting_values_open,y_test_values_close,y_test_values_open],axis=1)\n",
    "    concat_all = -((concat_all * (company['High'].max()-company['Low'].min()))-company['High'].max())\n",
    "    concat_all['difference_predicted'] = concat_all['close_predicted']-concat_all['open_predicted']\n",
    "    concat_all['difference_valid'] = concat_all['close_valid']-concat_all['open_valid']\n",
    "    concat_all['binary_predicted'] = concat_all['difference_predicted'].map(lambda x: 1 if x>0 else 0)\n",
    "    concat_all['binary_valid'] = concat_all['difference_valid'].map(lambda x: 1 if x>0 else 0)\n",
    "    from sklearn.metrics import precision_score\n",
    "    from sklearn.metrics import accuracy_score\n",
    "    accuracy = accuracy_score(concat_all['binary_valid'],concat_all['binary_predicted'])\n",
    "    precision = precision_score(concat_all['binary_valid'],concat_all['binary_predicted'])\n",
    "    Long = concat_all[concat_all['binary_predicted']==1]\n",
    "    from sklearn.metrics import mean_squared_error\n",
    "    rmse = np.sqrt(mean_squared_error(concat_all['difference_valid'],concat_all['difference_predicted']))\n",
    "    count = 0\n",
    "    for i in Long['difference_valid']:\n",
    "        count+=i\n",
    "    return count, accuracy, precision, rmse"
   ]
  },
  {
   "cell_type": "code",
   "execution_count": 80,
   "metadata": {},
   "outputs": [
    {
     "name": "stdout",
     "output_type": "stream",
     "text": [
      "Accuracy: 0.6140350877192983\n",
      "Precision: 0.6265822784810127\n",
      "Total Profit 223.20999999999995\n",
      "RMSE 7.04999936699109\n"
     ]
    }
   ],
   "source": [
    "sum_LSTM_AAPL, accuracy_LSTM_AAPL, precision_LSTM_AAPL, RMSE_LSTM_AAPL =univariate_lstm_model(AAPL,0,5478)\n",
    "print('Accuracy:', accuracy_LSTM_AAPL)\n",
    "print('Precision:', precision_LSTM_AAPL)\n",
    "print('Total Profit',sum_LSTM_AAPL)\n",
    "print('RMSE',RMSE_LSTM_AAPL)\n"
   ]
  },
  {
   "cell_type": "code",
   "execution_count": 81,
   "metadata": {},
   "outputs": [
    {
     "name": "stdout",
     "output_type": "stream",
     "text": [
      "Accuracy: 0.5307017543859649\n",
      "Precision: 0.5454545454545454\n",
      "Total Profit 17.30999999999989\n",
      "RMSE 4.065114834935975\n"
     ]
    }
   ],
   "source": [
    "sum_LSTM_MSFT, accuracy_LSTM_MSFT, precision_LSTM_MSFT, RMSE_LSTM_MSFT =univariate_lstm_model(MSFT,0,5478)\n",
    "print('Accuracy:', accuracy_LSTM_MSFT)\n",
    "print('Precision:', precision_LSTM_MSFT)\n",
    "print('Total Profit',sum_LSTM_MSFT)\n",
    "print('RMSE',RMSE_LSTM_MSFT)\n",
    "\n"
   ]
  },
  {
   "cell_type": "code",
   "execution_count": 82,
   "metadata": {},
   "outputs": [
    {
     "name": "stdout",
     "output_type": "stream",
     "text": [
      "Accuracy: 0.5350877192982456\n",
      "Precision: 0.4351851851851852\n",
      "Total Profit -3.2000000000003297\n",
      "RMSE 2.5985915935137123\n"
     ]
    }
   ],
   "source": [
    "sum_LSTM_JPM, accuracy_LSTM_JPM, precision_LSTM_JPM, RMSE_LSTM_JPM  =univariate_lstm_model(JPM,0,5478)\n",
    "print('Accuracy:', accuracy_LSTM_JPM)\n",
    "print('Precision:', precision_LSTM_JPM)\n",
    "print('Total Profit',sum_LSTM_JPM)\n",
    "print('RMSE',RMSE_LSTM_JPM)\n"
   ]
  },
  {
   "cell_type": "code",
   "execution_count": 83,
   "metadata": {
    "scrolled": true
   },
   "outputs": [
    {
     "name": "stdout",
     "output_type": "stream",
     "text": [
      "Accuracy: 0.6622807017543859\n",
      "Precision: 0.6470588235294118\n",
      "Total Profit 54.77999999999999\n",
      "RMSE 2.2040609784033407\n"
     ]
    }
   ],
   "source": [
    "sum_LSTM_JNJ, accuracy_LSTM_JNJ, precision_LSTM_JNJ, RMSE_LSTM_JNJ  =univariate_lstm_model(JNJ,0,5478)\n",
    "print('Accuracy:', accuracy_LSTM_JNJ)\n",
    "print('Precision:', precision_LSTM_JNJ)\n",
    "print('Total Profit',sum_LSTM_JNJ)\n",
    "print('RMSE',RMSE_LSTM_JNJ)\n"
   ]
  },
  {
   "cell_type": "code",
   "execution_count": 84,
   "metadata": {},
   "outputs": [
    {
     "name": "stdout",
     "output_type": "stream",
     "text": [
      "Accuracy: 0.5745614035087719\n",
      "Precision: 0.6287878787878788\n",
      "Total Profit 63.759999999999806\n",
      "RMSE 2.139409076858197\n"
     ]
    }
   ],
   "source": [
    "sum_LSTM_PG, accuracy_LSTM_PG, precision_LSTM_PG, RMSE_LSTM_PG  =univariate_lstm_model(PG,0,5478)\n",
    "print('Accuracy:', accuracy_LSTM_PG)\n",
    "print('Precision:', precision_LSTM_PG)\n",
    "print('Total Profit',sum_LSTM_PG)\n",
    "print('RMSE',RMSE_LSTM_PG)\n"
   ]
  },
  {
   "cell_type": "code",
   "execution_count": 85,
   "metadata": {},
   "outputs": [
    {
     "name": "stdout",
     "output_type": "stream",
     "text": [
      "Accuracy: 0.5833333333333334\n",
      "Precision: 0.6198347107438017\n",
      "Total Profit 583.1299999999983\n",
      "RMSE 26.947238284818187\n"
     ]
    }
   ],
   "source": [
    "sum_LSTM_GOOGL, accuracy_LSTM_GOOGL, precision_LSTM_GOOGL, RMSE_LSTM_GOOGL  =univariate_lstm_model(GOOGL,0,5478)\n",
    "print('Accuracy:', accuracy_LSTM_GOOGL)\n",
    "print('Precision:', precision_LSTM_GOOGL)\n",
    "print('Total Profit',sum_LSTM_GOOGL)\n",
    "print('RMSE',RMSE_LSTM_GOOGL)\n",
    "\n"
   ]
  },
  {
   "cell_type": "code",
   "execution_count": 86,
   "metadata": {},
   "outputs": [
    {
     "name": "stdout",
     "output_type": "stream",
     "text": [
      "Accuracy: 0.5964912280701754\n",
      "Precision: 0.6206896551724138\n",
      "Total Profit 641.8300000000006\n",
      "RMSE 72.10256751004891\n"
     ]
    }
   ],
   "source": [
    "sum_LSTM_AMZN, accuracy_LSTM_AMZN, precision_LSTM_AMZN, RMSE_LSTM_AMZN =univariate_lstm_model(AMZN,0,5478)\n",
    "print('Accuracy:', accuracy_LSTM_AMZN)\n",
    "print('Precision:', precision_LSTM_AMZN)\n",
    "print('Total Profit',sum_LSTM_AMZN)\n",
    "print('RMSE',RMSE_LSTM_AMZN)\n"
   ]
  },
  {
   "cell_type": "code",
   "execution_count": 87,
   "metadata": {},
   "outputs": [
    {
     "name": "stdout",
     "output_type": "stream",
     "text": [
      "Accuracy: 0.6447368421052632\n",
      "Precision: 0.6568627450980392\n",
      "Total Profit 92.4300000000002\n",
      "RMSE 3.030763264489496\n"
     ]
    }
   ],
   "source": [
    "sum_LSTM_BRK_B, accuracy_LSTM_BRK_B, precision_LSTM_BRK_B , RMSE_LSTM_BRK_B =univariate_lstm_model(BRK_B,0,5478)\n",
    "print('Accuracy:', accuracy_LSTM_BRK_B)\n",
    "print('Precision:', precision_LSTM_BRK_B)\n",
    "print('Total Profit',sum_LSTM_BRK_B)\n",
    "print('RMSE',RMSE_LSTM_BRK_B)\n"
   ]
  },
  {
   "cell_type": "code",
   "execution_count": 88,
   "metadata": {},
   "outputs": [
    {
     "data": {
      "text/plain": [
       "1673.2499999999986"
      ]
     },
     "execution_count": 88,
     "metadata": {},
     "output_type": "execute_result"
    }
   ],
   "source": [
    "summing=[sum_LSTM_PG,sum_LSTM_JPM,sum_LSTM_JNJ,sum_LSTM_GOOGL,sum_LSTM_BRK_B,sum_LSTM_AMZN,sum_LSTM_MSFT,sum_LSTM_AAPL]\n",
    "sums=0\n",
    "for i in summing:\n",
    "    sums+= i\n",
    "sums \n"
   ]
  },
  {
   "cell_type": "code",
   "execution_count": 89,
   "metadata": {},
   "outputs": [],
   "source": [
    "percent = (sums/count_high)*100"
   ]
  },
  {
   "cell_type": "code",
   "execution_count": 90,
   "metadata": {},
   "outputs": [
    {
     "name": "stdout",
     "output_type": "stream",
     "text": [
      "If you put in 7945.55 dollars you will have a return of 1673.25 , which is a 21.06 % return in 2020 so far.\n"
     ]
    }
   ],
   "source": [
    "print('If you put in', round(count_high,2), 'dollars you will have a return of', round(sums,2),', which is a',  round(percent,2),'% return in 2020 so far.')"
   ]
  },
  {
   "cell_type": "markdown",
   "metadata": {},
   "source": [
    "# Top 5 volitile stocks Univariate LSTM"
   ]
  },
  {
   "cell_type": "code",
   "execution_count": 91,
   "metadata": {},
   "outputs": [
    {
     "name": "stdout",
     "output_type": "stream",
     "text": [
      "Accuracy: 0.5877192982456141\n",
      "Precision: 0.44\n",
      "Total Profit 0.13000000000003809\n",
      "RMSE 0.047360217445174276\n"
     ]
    }
   ],
   "source": [
    "sum_LSTM_LODE, accuracy_LSTM_LODE, precision_LSTM_LODE, RMSE_LSTM_LODE  =univariate_lstm_model(LODE,0,3451)\n",
    "print('Accuracy:', accuracy_LSTM_LODE)\n",
    "print('Precision:', precision_LSTM_LODE)\n",
    "print('Total Profit',sum_LSTM_LODE)\n",
    "print('RMSE',RMSE_LSTM_LODE)"
   ]
  },
  {
   "cell_type": "code",
   "execution_count": 92,
   "metadata": {},
   "outputs": [
    {
     "name": "stdout",
     "output_type": "stream",
     "text": [
      "Accuracy: 0.5745614035087719\n",
      "Precision: 0.5425531914893617\n",
      "Total Profit -0.660000000000009\n",
      "RMSE 0.3666638742378621\n"
     ]
    }
   ],
   "source": [
    "sum_LSTM_UBX, accuracy_LSTM_UBX, precision_LSTM_UBX, RMSE_LSTM_UBX  =univariate_lstm_model(UBX,0,608)\n",
    "print('Accuracy:', accuracy_LSTM_UBX)\n",
    "print('Precision:', precision_LSTM_UBX)\n",
    "print('Total Profit',sum_LSTM_UBX)\n",
    "print('RMSE',RMSE_LSTM_UBX)"
   ]
  },
  {
   "cell_type": "code",
   "execution_count": 93,
   "metadata": {},
   "outputs": [
    {
     "name": "stdout",
     "output_type": "stream",
     "text": [
      "Accuracy: 0.6754385964912281\n",
      "Precision: 0.4864864864864865\n",
      "Total Profit 1.9700000000000042\n",
      "RMSE 0.12762893565977665\n"
     ]
    }
   ],
   "source": [
    "sum_LSTM_CLUB, accuracy_LSTM_CLUB, precision_LSTM_CLUB, RMSE_LSTM_CLUB  =univariate_lstm_model(CLUB,0,4961)\n",
    "print('Accuracy:', accuracy_LSTM_CLUB)\n",
    "print('Precision:', precision_LSTM_CLUB)\n",
    "print('Total Profit',sum_LSTM_CLUB)\n",
    "print('RMSE',RMSE_LSTM_CLUB)"
   ]
  },
  {
   "cell_type": "code",
   "execution_count": 94,
   "metadata": {},
   "outputs": [
    {
     "name": "stdout",
     "output_type": "stream",
     "text": [
      "Accuracy: 0.5175438596491229\n",
      "Precision: 0.4816753926701571\n",
      "Total Profit 1.5800000000049295\n",
      "RMSE 0.4183627808987033\n"
     ]
    }
   ],
   "source": [
    "sum_LSTM_IDXG, accuracy_LSTM_IDXG, precision_LSTM_IDXG, RMSE_LSTM_IDXG  =univariate_lstm_model(IDXG,0,5478)\n",
    "print('Accuracy:', accuracy_LSTM_IDXG)\n",
    "print('Precision:', precision_LSTM_IDXG)\n",
    "print('Total Profit',sum_LSTM_IDXG)\n",
    "print('RMSE',RMSE_LSTM_IDXG)"
   ]
  },
  {
   "cell_type": "code",
   "execution_count": 95,
   "metadata": {},
   "outputs": [
    {
     "name": "stdout",
     "output_type": "stream",
     "text": [
      "Accuracy: 0.6271929824561403\n",
      "Precision: 0.5172413793103449\n",
      "Total Profit 0.2700000000000067\n",
      "RMSE 0.07901774026382818\n"
     ]
    }
   ],
   "source": [
    "sum_LSTM_KGJI, accuracy_LSTM_KGJI, precision_LSTM_KGJI, RMSE_LSTM_KGJI  =univariate_lstm_model(KGJI,0,5478)\n",
    "print('Accuracy:', accuracy_LSTM_KGJI)\n",
    "print('Precision:', precision_LSTM_KGJI)\n",
    "print('Total Profit',sum_LSTM_KGJI)\n",
    "print('RMSE',RMSE_LSTM_KGJI)"
   ]
  },
  {
   "cell_type": "code",
   "execution_count": 96,
   "metadata": {},
   "outputs": [
    {
     "data": {
      "text/plain": [
       "3.2900000000049694"
      ]
     },
     "execution_count": 96,
     "metadata": {},
     "output_type": "execute_result"
    }
   ],
   "source": [
    "summing=[sum_LSTM_LODE,sum_LSTM_UBX,sum_LSTM_CLUB,sum_LSTM_IDXG,sum_LSTM_KGJI]\n",
    "sums=0\n",
    "for i in summing:\n",
    "    sums+= i\n",
    "sums \n"
   ]
  },
  {
   "cell_type": "code",
   "execution_count": 97,
   "metadata": {},
   "outputs": [],
   "source": [
    "percent = (sums/count_high)*100"
   ]
  },
  {
   "cell_type": "code",
   "execution_count": 98,
   "metadata": {},
   "outputs": [],
   "source": [
    "companying=[LODE,UBX,CLUB,IDXG,KGJI]"
   ]
  },
  {
   "cell_type": "code",
   "execution_count": 99,
   "metadata": {},
   "outputs": [
    {
     "data": {
      "text/plain": [
       "2412.2704"
      ]
     },
     "execution_count": 99,
     "metadata": {},
     "output_type": "execute_result"
    }
   ],
   "source": [
    "count_high=0\n",
    "for i in companying:\n",
    "    count_high+= max(i['High'])\n",
    "count_high "
   ]
  },
  {
   "cell_type": "code",
   "execution_count": 100,
   "metadata": {},
   "outputs": [
    {
     "name": "stdout",
     "output_type": "stream",
     "text": [
      "If you put in 2412.27 dollars you will have a return of 3.29 , which is a 0.04 % return in 2020 so far.\n"
     ]
    }
   ],
   "source": [
    "print('If you put in', round(count_high,2), 'dollars you will have a return of', round(sums,2),', which is a',  round(percent,2),'% return in 2020 so far.')"
   ]
  },
  {
   "cell_type": "markdown",
   "metadata": {},
   "source": [
    "# Top 5 Hand selected stocks"
   ]
  },
  {
   "cell_type": "code",
   "execution_count": 101,
   "metadata": {},
   "outputs": [
    {
     "name": "stdout",
     "output_type": "stream",
     "text": [
      "Accuracy: 0.5701754385964912\n",
      "Precision: 0.55\n",
      "Total Profit 395.1099999999981\n",
      "RMSE 45.399145132861136\n"
     ]
    }
   ],
   "source": [
    "sum_LSTM_TSLA, accuracy_LSTM_TSLA, precision_LSTM_TSLA, RMSE_LSTM_TSLA  =univariate_lstm_model(TSLA,0,3473)\n",
    "print('Accuracy:', accuracy_LSTM_TSLA)\n",
    "print('Precision:', precision_LSTM_TSLA)\n",
    "print('Total Profit',sum_LSTM_TSLA)\n",
    "print('RMSE',RMSE_LSTM_TSLA)"
   ]
  },
  {
   "cell_type": "code",
   "execution_count": 102,
   "metadata": {},
   "outputs": [
    {
     "name": "stdout",
     "output_type": "stream",
     "text": [
      "Accuracy: 0.6096491228070176\n",
      "Precision: 0.5871559633027523\n",
      "Total Profit 407.11000000000024\n",
      "RMSE 11.584868894695756\n"
     ]
    }
   ],
   "source": [
    "sum_LSTM_ISRG, accuracy_LSTM_ISRG, precision_LSTM_ISRG, RMSE_LSTM_ISRG  =univariate_lstm_model(ISRG,0,5478)\n",
    "print('Accuracy:', accuracy_LSTM_ISRG)\n",
    "print('Precision:', precision_LSTM_ISRG)\n",
    "print('Total Profit',sum_LSTM_ISRG)\n",
    "print('RMSE',RMSE_LSTM_ISRG)"
   ]
  },
  {
   "cell_type": "code",
   "execution_count": 103,
   "metadata": {},
   "outputs": [
    {
     "name": "stdout",
     "output_type": "stream",
     "text": [
      "Accuracy: 0.5877192982456141\n",
      "Precision: 0.625\n",
      "Total Profit 585.8299999999983\n",
      "RMSE 26.986099564969248\n"
     ]
    }
   ],
   "source": [
    "sum_LSTM_GOOGL, accuracy_LSTM_GOOGL, precision_LSTM_GOOGL, RMSE_LSTM_GOOGL  =univariate_lstm_model(GOOGL,0,5478)\n",
    "print('Accuracy:', accuracy_LSTM_GOOGL)\n",
    "print('Precision:', precision_LSTM_GOOGL)\n",
    "print('Total Profit',sum_LSTM_GOOGL)\n",
    "print('RMSE',RMSE_LSTM_GOOGL)\n"
   ]
  },
  {
   "cell_type": "code",
   "execution_count": 104,
   "metadata": {},
   "outputs": [
    {
     "name": "stdout",
     "output_type": "stream",
     "text": [
      "Accuracy: 0.5307017543859649\n",
      "Precision: 0.4972375690607735\n",
      "Total Profit 110.7299999999982\n",
      "RMSE 84.38600656279381\n"
     ]
    }
   ],
   "source": [
    "sum_LSTM_AMZN, accuracy_LSTM_AMZN, precision_LSTM_AMZN, RMSE_LSTM_AMZN  =univariate_lstm_model(AMZN,0,5478)\n",
    "print('Accuracy:', accuracy_LSTM_AMZN)\n",
    "print('Precision:', precision_LSTM_AMZN)\n",
    "print('Total Profit',sum_LSTM_AMZN)\n",
    "print('RMSE',RMSE_LSTM_AMZN)\n"
   ]
  },
  {
   "cell_type": "code",
   "execution_count": 105,
   "metadata": {},
   "outputs": [
    {
     "name": "stdout",
     "output_type": "stream",
     "text": [
      "Accuracy: 0.5921052631578947\n",
      "Precision: 0.6277372262773723\n",
      "Total Profit 209.84999999999994\n",
      "RMSE 6.884233225163696\n"
     ]
    }
   ],
   "source": [
    "sum_LSTM_AAPL, accuracy_LSTM_AAPL, precision_LSTM_AAPL, RMSE_LSTM_AAPL  =univariate_lstm_model(AAPL,0,5478)\n",
    "print('Accuracy:', accuracy_LSTM_AAPL)\n",
    "print('Precision:', precision_LSTM_AAPL)\n",
    "print('Total Profit',sum_LSTM_AAPL)\n",
    "print('RMSE',RMSE_LSTM_AAPL)\n",
    "\n"
   ]
  },
  {
   "cell_type": "code",
   "execution_count": 106,
   "metadata": {},
   "outputs": [
    {
     "data": {
      "text/plain": [
       "1708.6299999999947"
      ]
     },
     "execution_count": 106,
     "metadata": {},
     "output_type": "execute_result"
    }
   ],
   "source": [
    "summing=[sum_LSTM_TSLA,sum_LSTM_ISRG,sum_LSTM_GOOGL,sum_LSTM_AMZN,sum_LSTM_AAPL]\n",
    "sums=0\n",
    "for i in summing:\n",
    "    sums+= i\n",
    "sums \n"
   ]
  },
  {
   "cell_type": "code",
   "execution_count": 107,
   "metadata": {},
   "outputs": [],
   "source": [
    "percent = (sums/count_high)*100"
   ]
  },
  {
   "cell_type": "code",
   "execution_count": 108,
   "metadata": {},
   "outputs": [],
   "source": [
    "companying=[AMZN, AAPL, GOOGL, TSLA, ISRG]"
   ]
  },
  {
   "cell_type": "code",
   "execution_count": 109,
   "metadata": {},
   "outputs": [
    {
     "data": {
      "text/plain": [
       "7945.549999999999"
      ]
     },
     "execution_count": 109,
     "metadata": {},
     "output_type": "execute_result"
    }
   ],
   "source": [
    "count_high=0\n",
    "for i in companying:\n",
    "    count_high+= max(i['High'])\n",
    "count_high "
   ]
  },
  {
   "cell_type": "code",
   "execution_count": 110,
   "metadata": {},
   "outputs": [
    {
     "name": "stdout",
     "output_type": "stream",
     "text": [
      "If you put in 7945.55 dollars you will have a return of 1708.63 , which is a 70.83 % return in 2020 so far.\n"
     ]
    }
   ],
   "source": [
    "print('If you put in', round(count_high,2), 'dollars you will have a return of', round(sums,2),', which is a',  round(percent,2),'% return in 2020 so far.')"
   ]
  },
  {
   "cell_type": "markdown",
   "metadata": {},
   "source": [
    "## LSTM Multivariate"
   ]
  },
  {
   "cell_type": "code",
   "execution_count": 111,
   "metadata": {},
   "outputs": [],
   "source": [
    "#Transforming dataset \n",
    "def creating_dataset(X,time_steps=1):\n",
    "    Xs, ys =[],[]\n",
    "    for i in range(len(X)-time_steps):\n",
    "        v=X.iloc[i:(i+time_steps)].to_numpy()\n",
    "        Xs.append(v)\n",
    "        ys.append(X.iloc[i+time_steps])\n",
    "    return np.array(Xs), np.array(ys)"
   ]
  },
  {
   "cell_type": "code",
   "execution_count": 113,
   "metadata": {},
   "outputs": [],
   "source": [
    "# #Helping rename columns\n",
    "# def column_names3(x): \n",
    "#     x.rename(columns={0:'Open_valid', 1:'High_valid', 2:'Low_valid', 3:'Close_valid', 4:'Volume_valid', 5:'Dividends_valid', 6:'MarketCap_valid',\n",
    "#        7:'PeRatio_valid', 8:'EBIT_valid', 9:'TotalRevenue_valid', 10:'NetIncome_valid', 11:'FreeCashFlow_valid',\n",
    "#        12:'FinancingCashFlow_valid', 13:'InvestingCashFlow_valid', 14:'OperatingCashFlow_valid'},inplace=True)\n",
    "#     return x"
   ]
  },
  {
   "cell_type": "code",
   "execution_count": 114,
   "metadata": {},
   "outputs": [],
   "source": [
    "# AAPL_scaled= AAPL_scaled[['Open', 'High', 'Low', 'Close', 'Volume', 'Dividends', 'MarketCap',\n",
    "#        'PeRatio', 'EBIT', 'TotalRevenue', 'NetIncome', 'FreeCashFlow',\n",
    "#        'FinancingCashFlow', 'InvestingCashFlow', 'OperatingCashFlow']]"
   ]
  },
  {
   "cell_type": "code",
   "execution_count": 115,
   "metadata": {},
   "outputs": [],
   "source": [
    "# #Train Test Split\n",
    "\n",
    "# scaled_train =AAPL_scaled[:5458]\n",
    "# scaled_test = AAPL_scaled[5458:]\n",
    "# from sklearn.metrics import precision_score"
   ]
  },
  {
   "cell_type": "code",
   "execution_count": 117,
   "metadata": {},
   "outputs": [],
   "source": [
    "# def multivariate_LSTM(company_scaled, starttime,splittime,epoch):\n",
    "#     company_scaled= company_scaled[['Open', 'High', 'Low', 'Close', 'Volume', 'Dividends', 'MarketCap',\n",
    "#        'PeRatio', 'EBIT', 'TotalRevenue', 'NetIncome', 'FreeCashFlow',\n",
    "#        'FinancingCashFlow', 'InvestingCashFlow', 'OperatingCashFlow']]\n",
    "#     train =company_scaled[starttime:splittime]\n",
    "#     test = company_scaled[splittime:]\n",
    "#     x_train, y_train = creating_dataset(train)\n",
    "#     x_test, y_test = creating_dataset(test)\n",
    "#     from tensorflow import keras\n",
    "#     model = keras.Sequential()\n",
    "#     model.add(keras.layers.LSTM(units=len(train.columns),input_shape=(x_train.shape[1], x_train.shape[2])))\n",
    "#     model.add(keras.layers.Dense(units=len(train.columns)))\n",
    "#     model.compile(loss='mse',optimizer='adam')\n",
    "#     history = model.fit(x_train, y_train, epochs = epoch, batch_size=len(train.columns),shuffle=False,verbose=0)\n",
    "#     y_pred=model.predict(x_test)\n",
    "#     y_predicting_values = column_names2(pd.DataFrame(y_pred.reshape(-len(test),len(train.columns))))\n",
    "#     y_test_values = column_names3(pd.DataFrame(y_test.reshape(-len(test),len(train.columns))))\n",
    "#     y_predicted_closing = pd.DataFrame(y_predicting_values['Close_predict'])\n",
    "#     y_predicted_open = pd.DataFrame(y_predicting_values['Open_predict'])\n",
    "#     y_tested_closing = pd.DataFrame(y_test_values['Close_valid'])\n",
    "#     y_tested_open = pd.DataFrame(y_test_values['Open_valid'])\n",
    "#     concat_predicted_test = pd.concat([y_predicted_closing,y_predicted_open,y_tested_closing,y_tested_open],axis=1)\n",
    "#     concat_predicted_test = concat_predicted_test.pct_change()\n",
    "#     concat_predicted_test['Predict_binary'] = concat_predicted_test['Close_predict'].map(lambda x: 1 if x>0 else 0)\n",
    "#     concat_predicted_test['Valid_binary'] = concat_predicted_test['Close_valid'].map(lambda x: 1 if x>0 else 0)\n",
    "#     stuff = concat_predicted_test[(concat_predicted_test['Predict_binary']==1)&(concat_predicted_test['Valid_binary']>=0)]\n",
    "#     from sklearn.metrics import precision_score\n",
    "#     from sklearn.metrics import accuracy_score\n",
    "#     accuracy_scoring = accuracy_score(concat_predicted_test['Valid_binary'], concat_predicted_test['Predict_binary'])\n",
    "#     precision = precision_score(concat_predicted_test['Valid_binary'],concat_predicted_test['Predict_binary'])\n",
    "#     stuff['Closing_Valid_plus'] = stuff['Close_valid'].map(lambda x: x+1)\n",
    "#     count = 1\n",
    "#     for i in stuff['Closing_Valid_plus'][1:]:\n",
    "#         count*=i\n",
    "#     return (count-1), accuracy_scoring, precision\n",
    "    \n",
    "#     from sklearn.metrics import mean_squared_error\n",
    "#     rmse = np.sqrt(mean_squared_error(concat_all['difference_valid'],concat_all['difference_predicted']))"
   ]
  },
  {
   "cell_type": "code",
   "execution_count": null,
   "metadata": {},
   "outputs": [],
   "source": [
    "# #AAPL Scaled \n",
    "# count_AAPL, accuracy_scoring_AAPL = multivariate_LSTM(AAPL_scaled, 0,5478,110)\n",
    "# print('ROI',count_AAPL)\n",
    "# print('Accuracy Score', accuracy_scoring_AAPL)\n"
   ]
  },
  {
   "cell_type": "code",
   "execution_count": null,
   "metadata": {},
   "outputs": [],
   "source": [
    "# count_AMZN, accuracy_scoring_AMZN = multivariate_LSTM(AMZN_scaled, 0,5478,110)\n",
    "# print('ROI',count_AMZN)\n",
    "# print('Accuracy Score', accuracy_scoring_AMZN)\n"
   ]
  },
  {
   "cell_type": "code",
   "execution_count": null,
   "metadata": {},
   "outputs": [],
   "source": [
    "# #MSFT scaled\n",
    "# count_MSFT, accuracy_scoring_MSFT = multivariate_LSTM(MSFT_scaled, 0,5478,200)\n",
    "# print('ROI',count_MSFT)\n",
    "# print('Accuracy Score', accuracy_scoring_MSFT)\n"
   ]
  },
  {
   "cell_type": "code",
   "execution_count": null,
   "metadata": {},
   "outputs": [],
   "source": [
    "# #JNJ Scaled \n",
    "# count, accuracy_scoring = multivariate_LSTM(JNJ_scaled,0, 5478,110)\n",
    "# print('ROI',count)\n",
    "# print('Accuracy Score', accuracy_scoring)\n"
   ]
  },
  {
   "cell_type": "code",
   "execution_count": null,
   "metadata": {},
   "outputs": [],
   "source": [
    "# #GOOGL Scaled \n",
    "# count, accuracy_scoring = multivariate_LSTM(GOOGL_scaled, 0,5478,110)\n",
    "# print('ROI',count)\n",
    "# print('Accuracy Score', accuracy_scoring)\n"
   ]
  },
  {
   "cell_type": "code",
   "execution_count": null,
   "metadata": {},
   "outputs": [],
   "source": [
    "# #PG Scaled \n",
    "# count, accuracy_scoring = multivariate_LSTM(PG_scaled, 0,5478,110)\n",
    "# print('ROI',count)\n",
    "# print('Accuracy Score', accuracy_scoring)\n"
   ]
  },
  {
   "cell_type": "code",
   "execution_count": null,
   "metadata": {},
   "outputs": [],
   "source": [
    "# #BRK_B Scaled \n",
    "# count, accuracy_scoring = multivariate_LSTM(BRK_B_scaled, 0,5478,110)\n",
    "# print('ROI',count)\n",
    "# print('Accuracy Score', accuracy_scoring)\n"
   ]
  },
  {
   "cell_type": "code",
   "execution_count": null,
   "metadata": {
    "scrolled": false
   },
   "outputs": [],
   "source": [
    "# #JPM Scaled \n",
    "# count, accuracy_scoring = multivariate_LSTM(JPM_scaled,3376 ,5478,110)\n",
    "# print('ROI',count)\n",
    "# print('Accuracy Score', accuracy_scoring)\n"
   ]
  },
  {
   "cell_type": "code",
   "execution_count": 376,
   "metadata": {},
   "outputs": [],
   "source": [
    "def column_naming(x):\n",
    "    x.rename(columns={0:'Open', 1:'High', 2:'Low', 3:'Close', 4:'Volume', 5:'MarketCap',\n",
    "       6:'PeRatio', 7:'EBIT', 8:'TotalRevenue', 9:'NetIncome', 10:'FreeCashFlow',\n",
    "       11:'FinancingCashFlow', 12:'InvestingCashFlow', 13:'OperatingCashFlow'},inplace=True)\n",
    "    return x"
   ]
  },
  {
   "cell_type": "code",
   "execution_count": 377,
   "metadata": {},
   "outputs": [],
   "source": [
    "def column_renaming_predicted(x):\n",
    "    x.rename(columns={'Open':'Open_predicted','High':'High_predicted','Low':'Low_predicted','Close':'Close_predicted','Volume':'Volume_predicted','MarketCap':'MarketCap_predicted',\n",
    "      'PeRatio':'PeRatio_predicted','EBIT':'EBIT_predicted','TotalRevenue':'TotalRevenue_predicted', 'NetIncome':'NetIncome_predicted', 'FreeCashFlow':'FreeCashFlow_predicted',\n",
    "       'FinancingCashFlow':'FinancingCashFlow_predicted', 'InvestingCashFlow':'InvestingCashFlow_predicted', 'OperatingCashFlow':'OperatingCashFlow_predicted'},inplace=True)\n",
    "    return x"
   ]
  },
  {
   "cell_type": "code",
   "execution_count": 378,
   "metadata": {},
   "outputs": [],
   "source": [
    "def column_renaming_valid(x):\n",
    "    x.rename(columns={'Open':'Open_valid','High':'High_valid','Low':'Low_valid','Close':'Close_valid','Volume':'Volume_valid','MarketCap':'MarketCap_valid',\n",
    "      'PeRatio':'PeRatio_valid','EBIT':'EBIT_valid','TotalRevenue':'TotalRevenue_valid', 'NetIncome':'NetIncome_valid', 'FreeCashFlow':'FreeCashFlow_valid',\n",
    "       'FinancingCashFlow':'FinancingCashFlow_valid', 'InvestingCashFlow':'InvestingCashFlow_valid', 'OperatingCashFlow':'OperatingCashFlow_valid'},inplace=True)\n",
    "    return x"
   ]
  },
  {
   "cell_type": "code",
   "execution_count": 383,
   "metadata": {},
   "outputs": [],
   "source": [
    "def Multivariate_LSTM(company,startime, splittime,EPOCH,time):\n",
    "    company = company.drop(['mean','Dividends'],axis=1)\n",
    "    company2 = -(company - company.max())/(company.max()-company.min())\n",
    "    train = pd.DataFrame(company2[startime:splittime])\n",
    "    test =  pd.DataFrame(company2[splittime:])\n",
    "    TIME_STEPS = time\n",
    "    x_train, y_train = creating_dataset(train,TIME_STEPS)\n",
    "    x_test, y_test = creating_dataset(test,TIME_STEPS)\n",
    "    from tensorflow import keras\n",
    "    model = keras.Sequential()\n",
    "    model.add(keras.layers.LSTM(units=len(train.columns),input_shape=(x_train.shape[1], x_train.shape[2])))\n",
    "    model.add(keras.layers.Dense(units=len(train.columns)))\n",
    "    model.compile(loss='mse',optimizer='adam')\n",
    "    history = model.fit(x_train, y_train, epochs = EPOCH, batch_size=len(train.columns),shuffle=False,verbose=0)\n",
    "    y_pred=model.predict(x_test)\n",
    "    y_predicting_values = column_naming(pd.DataFrame(y_pred.reshape(-len(test),len(train.columns))))\n",
    "    y_test_values = column_naming(pd.DataFrame(y_test.reshape(-len(test),len(train.columns))))\n",
    "    y_predicting_values= -((y_predicting_values * (company.max()-company.min()))-company.max())\n",
    "    y_test_values= -((y_test_values * (company.max()-company.min()))-company.max())\n",
    "    y_predicting_values = column_renaming_predicted(y_predicting_values)\n",
    "    y_test_values= column_renaming_valid(y_test_values)\n",
    "    concat_all = pd.concat([y_predicting_values,y_test_values],axis=1)\n",
    "    concat_all['difference_valid'] = concat_all['Close_valid'] - concat_all['Open_valid']\n",
    "    concat_all['difference_predicted'] = concat_all['Close_predicted'] - concat_all['Open_predicted']\n",
    "    concat_all['binary_valid'] = concat_all['difference_valid'].map(lambda x: 1 if x>0 else 0)\n",
    "    concat_all['binary_predicted'] = concat_all['difference_predicted'].map(lambda x: 1 if x>0 else 0)\n",
    "    Long = concat_all[concat_all['binary_predicted']==1]\n",
    "    from sklearn.metrics import mean_squared_error\n",
    "    from sklearn.metrics import accuracy_score\n",
    "    from sklearn.metrics import precision_score\n",
    "    accuracy = accuracy_score(concat_all['binary_valid'],concat_all['binary_predicted'])\n",
    "    precision = precision_score(concat_all['binary_valid'],concat_all['binary_predicted'])\n",
    "    count = sum(Long['difference_valid'])\n",
    "    RMSE = np.sqrt(mean_squared_error(concat_all['difference_valid'],concat_all['difference_predicted']))\n",
    "    return count, accuracy, precision, RMSE"
   ]
  },
  {
   "cell_type": "code",
   "execution_count": 407,
   "metadata": {},
   "outputs": [
    {
     "name": "stdout",
     "output_type": "stream",
     "text": [
      "Accuracy: 0.45414847161572053\n",
      "Precision: 0.5\n",
      "Total Profit 63.01999999999998\n",
      "RMSE 38.64231738251499\n"
     ]
    }
   ],
   "source": [
    "count_GOOGL, accuracy_GOOGL, precision_GOOGL, RMSE_GOOGL = Multivariate_LSTM(GOOGL_concat,0,5478,120,2)\n",
    "print('Accuracy:', accuracy_GOOGL)\n",
    "print('Precision:', precision_GOOGL)\n",
    "print('Total Profit',count_GOOGL)\n",
    "print('RMSE',RMSE_GOOGL)"
   ]
  },
  {
   "cell_type": "code",
   "execution_count": 408,
   "metadata": {},
   "outputs": [
    {
     "name": "stdout",
     "output_type": "stream",
     "text": [
      "Accuracy: 0.4692982456140351\n",
      "Precision: 0.6666666666666666\n",
      "Total Profit 66.6099999999999\n",
      "RMSE 36.79163132306503\n"
     ]
    }
   ],
   "source": [
    "print('Accuracy:', accuracy)\n",
    "print('Precision:', precision)\n",
    "print('Total Profit',count)\n",
    "print('RMSE',RMSE)"
   ]
  },
  {
   "cell_type": "code",
   "execution_count": 409,
   "metadata": {},
   "outputs": [
    {
     "name": "stdout",
     "output_type": "stream",
     "text": [
      "Accuracy: 0.4649122807017544\n",
      "Precision: 0.5333333333333333\n",
      "Total Profit 50.430000000000035\n",
      "RMSE 14.256853927094442\n"
     ]
    }
   ],
   "source": [
    "count_AAPL, accuracy_AAPL, precision_AAPL, RMSE_AAPL = Multivariate_LSTM(AAPL_concat,0,5478,120,2)\n",
    "print('Accuracy:', accuracy_AAPL)\n",
    "print('Precision:', precision_AAPL)\n",
    "print('Total Profit',count_AAPL)\n",
    "print('RMSE',RMSE_AAPL)"
   ]
  },
  {
   "cell_type": "code",
   "execution_count": 410,
   "metadata": {},
   "outputs": [
    {
     "name": "stdout",
     "output_type": "stream",
     "text": [
      "Accuracy: 0.5219298245614035\n",
      "Precision: 0.2857142857142857\n",
      "Total Profit 39.12999999999943\n",
      "RMSE 101.3475901629411\n"
     ]
    }
   ],
   "source": [
    "count_AMZN, accuracy_AMZN, precision_AMZN, RMSE_AMZN = Multivariate_LSTM(AMZN_concat,0,5478,120,2)\n",
    "print('Accuracy:', accuracy_AMZN)\n",
    "print('Precision:', precision_AMZN)\n",
    "print('Total Profit',count_AMZN)\n",
    "print('RMSE',RMSE_AMZN)"
   ]
  },
  {
   "cell_type": "code",
   "execution_count": 411,
   "metadata": {},
   "outputs": [
    {
     "name": "stdout",
     "output_type": "stream",
     "text": [
      "Accuracy: 0.5307017543859649\n",
      "Precision: 0.5323741007194245\n",
      "Total Profit 6.060000000000031\n",
      "RMSE 8.105203496781114\n"
     ]
    }
   ],
   "source": [
    "count_MSFT, accuracy_MSFT, precision_MSFT, RMSE_MSFT = Multivariate_LSTM(MSFT_concat,0,5478,120,3)\n",
    "print('Accuracy:', accuracy_MSFT)\n",
    "print('Precision:', precision_MSFT)\n",
    "print('Total Profit',count_MSFT)\n",
    "print('RMSE',RMSE_MSFT)"
   ]
  },
  {
   "cell_type": "code",
   "execution_count": 416,
   "metadata": {},
   "outputs": [
    {
     "name": "stdout",
     "output_type": "stream",
     "text": [
      "Accuracy: 0.6052631578947368\n",
      "Precision: 0.5263157894736842\n",
      "Total Profit 7.419999999999959\n",
      "RMSE 2.437298848057394\n"
     ]
    }
   ],
   "source": [
    "count_JPM, accuracy_JPM, precision_JPM, RMSE_JPM = Multivariate_LSTM(JPM_concat,3376,5478,120,2)\n",
    "print('Accuracy:', accuracy_JPM)\n",
    "print('Precision:', precision_JPM)\n",
    "print('Total Profit',count_JPM)\n",
    "print('RMSE',RMSE_JPM)"
   ]
  },
  {
   "cell_type": "code",
   "execution_count": 417,
   "metadata": {},
   "outputs": [
    {
     "name": "stdout",
     "output_type": "stream",
     "text": [
      "Accuracy: 0.40789473684210525\n",
      "Precision: 0.35051546391752575\n",
      "Total Profit -31.899999999999878\n",
      "RMSE 2.251277701920127\n"
     ]
    }
   ],
   "source": [
    "count_JNJ, accuracy_JNJ, precision_JNJ, RMSE_JNJ = Multivariate_LSTM(JNJ_concat,0,5478,120,2)\n",
    "print('Accuracy:', accuracy_JNJ)\n",
    "print('Precision:', precision_JNJ)\n",
    "print('Total Profit',count_JNJ)\n",
    "print('RMSE',RMSE_JNJ)"
   ]
  },
  {
   "cell_type": "code",
   "execution_count": 418,
   "metadata": {},
   "outputs": [
    {
     "name": "stdout",
     "output_type": "stream",
     "text": [
      "Accuracy: 0.5833333333333334\n",
      "Precision: 0.6323529411764706\n",
      "Total Profit 63.33999999999982\n",
      "RMSE 2.482202772887869\n"
     ]
    }
   ],
   "source": [
    "count_PG, accuracy_PG, precision_PG, RMSE_PG = Multivariate_LSTM(PG_concat,0,5478,120,2)\n",
    "print('Accuracy:', accuracy_PG)\n",
    "print('Precision:', precision_PG)\n",
    "print('Total Profit',count_PG)\n",
    "print('RMSE',RMSE_PG)"
   ]
  },
  {
   "cell_type": "code",
   "execution_count": 419,
   "metadata": {},
   "outputs": [
    {
     "name": "stdout",
     "output_type": "stream",
     "text": [
      "Accuracy: 0.5\n",
      "Precision: 0.0\n",
      "Total Profit -0.2300000000000182\n",
      "RMSE 3.3996281078543604\n"
     ]
    }
   ],
   "source": [
    "count_BRK_B, accuracy_BRK_B, precision_BRK_B, RMSE_BRK_B = Multivariate_LSTM(BRK_B_concat,0,5478,120,2)\n",
    "print('Accuracy:', accuracy_BRK_B)\n",
    "print('Precision:', precision_BRK_B)\n",
    "print('Total Profit',count_BRK_B)\n",
    "print('RMSE',RMSE_BRK_B)"
   ]
  },
  {
   "cell_type": "code",
   "execution_count": 420,
   "metadata": {},
   "outputs": [
    {
     "data": {
      "text/plain": [
       "197.26999999999936"
      ]
     },
     "execution_count": 420,
     "metadata": {},
     "output_type": "execute_result"
    }
   ],
   "source": [
    "summing=[count_PG,count_JPM,count_JNJ,count_GOOGL,count_BRK_B,count_AMZN,count_MSFT,count_AAPL]\n",
    "sums=0\n",
    "for i in summing:\n",
    "    sums+= i\n",
    "sums \n"
   ]
  },
  {
   "cell_type": "code",
   "execution_count": 421,
   "metadata": {},
   "outputs": [],
   "source": [
    "companies = [AAPL,MSFT,AMZN,PG,JNJ,JPM,BRK_B,GOOGL]"
   ]
  },
  {
   "cell_type": "code",
   "execution_count": 422,
   "metadata": {},
   "outputs": [
    {
     "data": {
      "text/plain": [
       "6276.35"
      ]
     },
     "execution_count": 422,
     "metadata": {},
     "output_type": "execute_result"
    }
   ],
   "source": [
    "count_high=0\n",
    "for i in companies:\n",
    "    count_high+= max(i['High'])\n",
    "count_high "
   ]
  },
  {
   "cell_type": "code",
   "execution_count": 423,
   "metadata": {},
   "outputs": [],
   "source": [
    "percent = (sums/count_high)*100"
   ]
  },
  {
   "cell_type": "code",
   "execution_count": 424,
   "metadata": {},
   "outputs": [
    {
     "name": "stdout",
     "output_type": "stream",
     "text": [
      "If you put in 6276.35 dollars you will have a return of 197.27 , which is a 3.14 % return in 2020 so far.\n"
     ]
    }
   ],
   "source": [
    "print('If you put in', round(count_high,2), 'dollars you will have a return of', round(sums,2),', which is a',  round(percent,2),'% return in 2020 so far.')"
   ]
  }
 ],
 "metadata": {
  "kernelspec": {
   "display_name": "Python 3",
   "language": "python",
   "name": "python3"
  },
  "language_info": {
   "codemirror_mode": {
    "name": "ipython",
    "version": 3
   },
   "file_extension": ".py",
   "mimetype": "text/x-python",
   "name": "python",
   "nbconvert_exporter": "python",
   "pygments_lexer": "ipython3",
   "version": "3.6.9"
  }
 },
 "nbformat": 4,
 "nbformat_minor": 2
}
